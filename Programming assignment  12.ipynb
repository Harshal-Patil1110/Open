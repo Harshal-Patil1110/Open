{
 "cells": [
  {
   "cell_type": "markdown",
   "id": "45d97350",
   "metadata": {},
   "source": [
    "1. Write a Python program to Extract Unique values dictionary values?"
   ]
  },
  {
   "cell_type": "code",
   "execution_count": 50,
   "id": "cbe44adf",
   "metadata": {},
   "outputs": [
    {
     "name": "stdout",
     "output_type": "stream",
     "text": [
      "[1, 2, 3, 4, 5]\n"
     ]
    }
   ],
   "source": [
    "my_dict = {'a': [1, 2, 3], 'b': [2, 3, 4], 'c': [3, 4, 5], 'd': [1, 3, 5]}\n",
    "unique_values = set(value for values in my_dict.values() for value in values)\n",
    "print(list(unique_values))\n"
   ]
  },
  {
   "cell_type": "markdown",
   "id": "bed61c3d",
   "metadata": {},
   "source": [
    "2. Write a Python program to find the sum of all items in a dictionary?"
   ]
  },
  {
   "cell_type": "code",
   "execution_count": 51,
   "id": "ffbda2da",
   "metadata": {},
   "outputs": [
    {
     "ename": "TypeError",
     "evalue": "'int' object is not callable",
     "output_type": "error",
     "traceback": [
      "\u001b[1;31m---------------------------------------------------------------------------\u001b[0m",
      "\u001b[1;31mTypeError\u001b[0m                                 Traceback (most recent call last)",
      "Input \u001b[1;32mIn [51]\u001b[0m, in \u001b[0;36m<cell line: 4>\u001b[1;34m()\u001b[0m\n\u001b[0;32m      1\u001b[0m my_dict \u001b[38;5;241m=\u001b[39m {\u001b[38;5;124m'\u001b[39m\u001b[38;5;124ma\u001b[39m\u001b[38;5;124m'\u001b[39m: \u001b[38;5;241m10\u001b[39m, \u001b[38;5;124m'\u001b[39m\u001b[38;5;124mb\u001b[39m\u001b[38;5;124m'\u001b[39m: \u001b[38;5;241m20\u001b[39m, \u001b[38;5;124m'\u001b[39m\u001b[38;5;124mc\u001b[39m\u001b[38;5;124m'\u001b[39m: \u001b[38;5;241m30\u001b[39m, \u001b[38;5;124m'\u001b[39m\u001b[38;5;124md\u001b[39m\u001b[38;5;124m'\u001b[39m: \u001b[38;5;241m40\u001b[39m}\n\u001b[0;32m      3\u001b[0m \u001b[38;5;66;03m# Calculate the sum of all items in the dictionary\u001b[39;00m\n\u001b[1;32m----> 4\u001b[0m total_sum \u001b[38;5;241m=\u001b[39m \u001b[38;5;28;43msum\u001b[39;49m\u001b[43m(\u001b[49m\u001b[43mmy_dict\u001b[49m\u001b[38;5;241;43m.\u001b[39;49m\u001b[43mvalues\u001b[49m\u001b[43m(\u001b[49m\u001b[43m)\u001b[49m\u001b[43m)\u001b[49m\n\u001b[0;32m      6\u001b[0m \u001b[38;5;66;03m# Print the sum\u001b[39;00m\n\u001b[0;32m      7\u001b[0m \u001b[38;5;28mprint\u001b[39m(\u001b[38;5;124m\"\u001b[39m\u001b[38;5;124mThe sum of all items in the dictionary is:\u001b[39m\u001b[38;5;124m\"\u001b[39m, total_sum)\n",
      "\u001b[1;31mTypeError\u001b[0m: 'int' object is not callable"
     ]
    }
   ],
   "source": [
    "my_dict = {'a': 10, 'b': 20, 'c': 30, 'd': 40}\n",
    "\n",
    "# Calculate the sum of all items in the dictionary\n",
    "total_sum = sum(my_dict.values())\n",
    "\n",
    "# Print the sum\n",
    "print(\"The sum of all items in the dictionary is:\", total_sum)\n"
   ]
  },
  {
   "cell_type": "markdown",
   "id": "ccaaac0a",
   "metadata": {},
   "source": [
    "3. Write a Python program to Merging two Dictionaries?"
   ]
  },
  {
   "cell_type": "code",
   "execution_count": 52,
   "id": "b08ed047",
   "metadata": {},
   "outputs": [
    {
     "name": "stdout",
     "output_type": "stream",
     "text": [
      "{'a': 10, 'b': 20, 'c': 30, 'd': 40}\n"
     ]
    }
   ],
   "source": [
    "dict1 = {'a': 10, 'b': 20}\n",
    "dict2 = {'c': 30, 'd': 40}\n",
    "\n",
    "dict1.update(dict2)\n",
    "print(dict1)\n"
   ]
  },
  {
   "cell_type": "markdown",
   "id": "585fc896",
   "metadata": {},
   "source": [
    "4. Write a Python program to convert key-values list to flat dictionary?"
   ]
  },
  {
   "cell_type": "code",
   "execution_count": 53,
   "id": "87491508",
   "metadata": {},
   "outputs": [
    {
     "name": "stdout",
     "output_type": "stream",
     "text": [
      "{'a': 1, 'b': 2, 'c': 3}\n"
     ]
    }
   ],
   "source": [
    "key_value_list = [('a', 1), ('b', 2), ('c', 3)]\n",
    "\n",
    "flat_dict = {k: v for (k, v) in key_value_list}\n",
    "\n",
    "print(flat_dict)\n"
   ]
  },
  {
   "cell_type": "markdown",
   "id": "afd45fb5",
   "metadata": {},
   "source": [
    "5. Write a Python program to insertion at the beginning in OrderedDict?"
   ]
  },
  {
   "cell_type": "code",
   "execution_count": 54,
   "id": "a865127b",
   "metadata": {},
   "outputs": [
    {
     "name": "stdout",
     "output_type": "stream",
     "text": [
      "Original OrderedDict: \n",
      "OrderedDict([('a', 1), ('b', 2), ('c', 3)])\n"
     ]
    },
    {
     "ename": "TypeError",
     "evalue": "update() takes at most 1 positional argument (2 given)",
     "output_type": "error",
     "traceback": [
      "\u001b[1;31m---------------------------------------------------------------------------\u001b[0m",
      "\u001b[1;31mTypeError\u001b[0m                                 Traceback (most recent call last)",
      "Input \u001b[1;32mIn [54]\u001b[0m, in \u001b[0;36m<cell line: 15>\u001b[1;34m()\u001b[0m\n\u001b[0;32m     12\u001b[0m \u001b[38;5;28mprint\u001b[39m(od)\n\u001b[0;32m     14\u001b[0m \u001b[38;5;66;03m# inserting a new key-value pair at the beginning\u001b[39;00m\n\u001b[1;32m---> 15\u001b[0m \u001b[43mod\u001b[49m\u001b[38;5;241;43m.\u001b[39;49m\u001b[43mupdate\u001b[49m\u001b[43m(\u001b[49m\u001b[43m{\u001b[49m\u001b[38;5;124;43m'\u001b[39;49m\u001b[38;5;124;43mx\u001b[39;49m\u001b[38;5;124;43m'\u001b[39;49m\u001b[43m:\u001b[49m\u001b[43m \u001b[49m\u001b[38;5;241;43m0\u001b[39;49m\u001b[43m}\u001b[49m\u001b[43m,\u001b[49m\u001b[43m \u001b[49m\u001b[43m{\u001b[49m\u001b[38;5;124;43m'\u001b[39;49m\u001b[38;5;124;43ma\u001b[39;49m\u001b[38;5;124;43m'\u001b[39;49m\u001b[43m:\u001b[49m\u001b[43m \u001b[49m\u001b[43mod\u001b[49m\u001b[38;5;241;43m.\u001b[39;49m\u001b[43mpop\u001b[49m\u001b[43m(\u001b[49m\u001b[38;5;124;43m'\u001b[39;49m\u001b[38;5;124;43ma\u001b[39;49m\u001b[38;5;124;43m'\u001b[39;49m\u001b[43m)\u001b[49m\u001b[43m}\u001b[49m\u001b[43m)\u001b[49m\n\u001b[0;32m     17\u001b[0m \u001b[38;5;28mprint\u001b[39m(\u001b[38;5;124m\"\u001b[39m\u001b[38;5;124mOrderedDict after inserting a new key-value pair at the beginning: \u001b[39m\u001b[38;5;124m\"\u001b[39m)\n\u001b[0;32m     18\u001b[0m \u001b[38;5;28mprint\u001b[39m(od)\n",
      "\u001b[1;31mTypeError\u001b[0m: update() takes at most 1 positional argument (2 given)"
     ]
    }
   ],
   "source": [
    "from collections import OrderedDict\n",
    "\n",
    "# creating an empty ordered dictionary\n",
    "od = OrderedDict()\n",
    "\n",
    "# adding key-value pairs\n",
    "od['a'] = 1\n",
    "od['b'] = 2\n",
    "od['c'] = 3\n",
    "\n",
    "print(\"Original OrderedDict: \")\n",
    "print(od)\n",
    "\n",
    "# inserting a new key-value pair at the beginning\n",
    "od.update({'x': 0}, {'a': od.pop('a')})\n",
    "\n",
    "print(\"OrderedDict after inserting a new key-value pair at the beginning: \")\n",
    "print(od)\n"
   ]
  },
  {
   "cell_type": "markdown",
   "id": "ea5c72b5",
   "metadata": {},
   "source": [
    "6. Write a Python program to check order of character in string using OrderedDict()?"
   ]
  },
  {
   "cell_type": "code",
   "execution_count": 55,
   "id": "d5f5af08",
   "metadata": {},
   "outputs": [
    {
     "name": "stdout",
     "output_type": "stream",
     "text": [
      "True\n",
      "False\n"
     ]
    }
   ],
   "source": [
    "from collections import OrderedDict\n",
    "\n",
    "def check_order(string, pattern):\n",
    "    pattern_dict = OrderedDict.fromkeys(pattern)\n",
    "\n",
    "    j = 0\n",
    "    for key in pattern_dict:\n",
    "        if key in string[j:]:\n",
    "            j += string[j:].index(key)\n",
    "        else:\n",
    "            return False\n",
    "    return True\n",
    "\n",
    "# Example usage\n",
    "string = \"hello world\"\n",
    "pattern = \"hlo\"\n",
    "print(check_order(string, pattern))  # True\n",
    "pattern = \"ohl\"\n",
    "print(check_order(string, pattern))  # False\n"
   ]
  },
  {
   "cell_type": "markdown",
   "id": "cb66d354",
   "metadata": {},
   "source": [
    "7. Write a Python program to sort Python Dictionaries by Key or Value?"
   ]
  },
  {
   "cell_type": "code",
   "execution_count": 56,
   "id": "00df10c0",
   "metadata": {},
   "outputs": [
    {
     "name": "stdout",
     "output_type": "stream",
     "text": [
      "{'apple': 3, 'banana': 2, 'orange': 1, 'pear': 4}\n",
      "{'orange': 1, 'banana': 2, 'apple': 3, 'pear': 4}\n"
     ]
    }
   ],
   "source": [
    "# dictionary to be sorted\n",
    "my_dict = {'apple': 3, 'banana': 2, 'pear': 4, 'orange': 1}\n",
    "\n",
    "# sort by key\n",
    "sorted_dict_by_key = dict(sorted(my_dict.items()))\n",
    "print(sorted_dict_by_key) # Output: {'apple': 3, 'banana': 2, 'orange': 1, 'pear': 4}\n",
    "\n",
    "# sort by value\n",
    "sorted_dict_by_value = dict(sorted(my_dict.items(), key=lambda item: item[1]))\n",
    "print(sorted_dict_by_value) # Output: {'orange': 1, 'banana': 2, 'apple': 3, 'pear': 4}\n"
   ]
  },
  {
   "cell_type": "code",
   "execution_count": null,
   "id": "bcf51f96",
   "metadata": {},
   "outputs": [],
   "source": []
  }
 ],
 "metadata": {
  "kernelspec": {
   "display_name": "Python 3 (ipykernel)",
   "language": "python",
   "name": "python3"
  },
  "language_info": {
   "codemirror_mode": {
    "name": "ipython",
    "version": 3
   },
   "file_extension": ".py",
   "mimetype": "text/x-python",
   "name": "python",
   "nbconvert_exporter": "python",
   "pygments_lexer": "ipython3",
   "version": "3.9.12"
  }
 },
 "nbformat": 4,
 "nbformat_minor": 5
}
