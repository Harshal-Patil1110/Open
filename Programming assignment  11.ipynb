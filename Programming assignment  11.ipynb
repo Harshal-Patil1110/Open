{
 "cells": [
  {
   "cell_type": "markdown",
   "id": "9fb1c396",
   "metadata": {},
   "source": [
    "1. Write a Python program to find words which are greater than given length k?"
   ]
  },
  {
   "cell_type": "code",
   "execution_count": 42,
   "id": "36fce2e1",
   "metadata": {},
   "outputs": [
    {
     "name": "stdout",
     "output_type": "stream",
     "text": [
      "['elephant', 'hippopotamus']\n"
     ]
    }
   ],
   "source": [
    "def find_words_greater_than_k(string, k):\n",
    "    # Split the string into individual words\n",
    "    words = string.split()\n",
    "    \n",
    "    # Create a list to store the words greater than k\n",
    "    result = []\n",
    "    \n",
    "    # Loop through each word\n",
    "    for word in words:\n",
    "        # If the length of the word is greater than k, add it to the result list\n",
    "        if len(word) > k:\n",
    "            result.append(word)\n",
    "    \n",
    "    # Return the list of words greater than k\n",
    "    return result\n",
    "\n",
    "# Example usage\n",
    "string = \"This is a sample string with some long words like elephant and hippopotamus\"\n",
    "k = 6\n",
    "result = find_words_greater_than_k(string, k)\n",
    "print(result)\n"
   ]
  },
  {
   "cell_type": "markdown",
   "id": "4186a9f2",
   "metadata": {},
   "source": [
    "2. Write a Python program for removing i-th character from a string?"
   ]
  },
  {
   "cell_type": "code",
   "execution_count": 43,
   "id": "4bd84ad4",
   "metadata": {},
   "outputs": [
    {
     "name": "stdout",
     "output_type": "stream",
     "text": [
      "Hello world!\n"
     ]
    }
   ],
   "source": [
    "def remove_character(s, i):\n",
    "    return s[:i] + s[i+1:]\n",
    "\n",
    "# example usage\n",
    "s = \"Hello, world!\"\n",
    "i = 5\n",
    "new_s = remove_character(s, i)\n",
    "print(new_s)  # Output: \"Hello world!\"\n"
   ]
  },
  {
   "cell_type": "markdown",
   "id": "f5a5fb5e",
   "metadata": {},
   "source": [
    "3. Write a Python program to split and join a string?"
   ]
  },
  {
   "cell_type": "code",
   "execution_count": 44,
   "id": "5e5e2e9e",
   "metadata": {},
   "outputs": [
    {
     "name": "stdout",
     "output_type": "stream",
     "text": [
      "List of substrings: ['Hello', ' World!']\n",
      "Joined string: Hello, World!\n"
     ]
    }
   ],
   "source": [
    "# Split and join a string\n",
    "string = \"Hello, World!\"\n",
    "delimiter = \",\"\n",
    "\n",
    "# Split the string into a list of substrings\n",
    "substring_list = string.split(delimiter)\n",
    "print(\"List of substrings:\", substring_list)\n",
    "\n",
    "# Join the list of substrings into a single string\n",
    "new_string = delimiter.join(substring_list)\n",
    "print(\"Joined string:\", new_string)\n"
   ]
  },
  {
   "cell_type": "markdown",
   "id": "c5219633",
   "metadata": {},
   "source": [
    "4. Write a Python to check if a given string is binary string or not?"
   ]
  },
  {
   "cell_type": "code",
   "execution_count": 45,
   "id": "159128b0",
   "metadata": {},
   "outputs": [
    {
     "name": "stdout",
     "output_type": "stream",
     "text": [
      "True\n",
      "False\n"
     ]
    }
   ],
   "source": [
    "def is_binary_string(s):\n",
    "    for char in s:\n",
    "        if char not in ['0', '1']:\n",
    "            return False\n",
    "    return True\n",
    "\n",
    "# Example usage\n",
    "print(is_binary_string('101010'))  # True\n",
    "print(is_binary_string('012345'))  # False\n"
   ]
  },
  {
   "cell_type": "markdown",
   "id": "282ec0cc",
   "metadata": {},
   "source": [
    "5. Write a Python program to find uncommon words from two Strings?"
   ]
  },
  {
   "cell_type": "code",
   "execution_count": 46,
   "id": "c24a6c5a",
   "metadata": {},
   "outputs": [
    {
     "name": "stdout",
     "output_type": "stream",
     "text": [
      "{'dog', 'over', 'brown', 'lazy', 'jumped', 'fox', 'quick'}\n"
     ]
    }
   ],
   "source": [
    "def uncommon_words(str1, str2):\n",
    "    # split the strings into lists of words\n",
    "    words1 = str1.split()\n",
    "    words2 = str2.split()\n",
    "    \n",
    "    # create sets of words for each string\n",
    "    set1 = set(words1)\n",
    "    set2 = set(words2)\n",
    "    \n",
    "    # find the uncommon words\n",
    "    uncommon = set1.symmetric_difference(set2)\n",
    "    \n",
    "    return uncommon\n",
    "    \n",
    "# example usage\n",
    "str1 = \"the quick brown fox\"\n",
    "str2 = \"jumped over the lazy dog\"\n",
    "uncommon = uncommon_words(str1, str2)\n",
    "print(uncommon) # {'brown', 'quick', 'jumped', 'lazy', 'fox', 'the', 'over', 'dog'}\n"
   ]
  },
  {
   "cell_type": "markdown",
   "id": "330d1a84",
   "metadata": {},
   "source": [
    "6. Write a Python to find all duplicate characters in string?"
   ]
  },
  {
   "cell_type": "code",
   "execution_count": 47,
   "id": "f483dbd3",
   "metadata": {},
   "outputs": [
    {
     "name": "stdout",
     "output_type": "stream",
     "text": [
      "Duplicate characters in the string are: l, o\n"
     ]
    }
   ],
   "source": [
    "string = \"Hello World\"\n",
    "duplicates = []\n",
    "\n",
    "# loop through each character in the string\n",
    "for char in string:\n",
    "\n",
    "    # if character is not already in the duplicates list and appears more than once in the string\n",
    "    if string.count(char) > 1 and char not in duplicates:\n",
    "\n",
    "        # append the character to the duplicates list\n",
    "        duplicates.append(char)\n",
    "\n",
    "# print the list of duplicate characters\n",
    "print(\"Duplicate characters in the string are:\", ', '.join(duplicates))\n"
   ]
  },
  {
   "cell_type": "markdown",
   "id": "47eb2753",
   "metadata": {},
   "source": [
    "7. Write a Python Program to check if a string contains any special character?"
   ]
  },
  {
   "cell_type": "code",
   "execution_count": 49,
   "id": "eac77140",
   "metadata": {},
   "outputs": [
    {
     "name": "stdout",
     "output_type": "stream",
     "text": [
      "Input string contains special characters\n"
     ]
    }
   ],
   "source": [
    "import string\n",
    "\n",
    "def contains_special_char(input_string):\n",
    "    special_chars = set(string.punctuation)\n",
    "    for char in input_string:\n",
    "        if char in special_chars:\n",
    "            return True\n",
    "    return False\n",
    "\n",
    "# example usage\n",
    "input_str = \"Hello, world!\"\n",
    "if contains_special_char(input_str):\n",
    "    print(\"Input string contains special characters\")\n",
    "else:\n",
    "    print(\"Input string does not contain special characters\")\n"
   ]
  },
  {
   "cell_type": "code",
   "execution_count": null,
   "id": "85ccb740",
   "metadata": {},
   "outputs": [],
   "source": []
  }
 ],
 "metadata": {
  "kernelspec": {
   "display_name": "Python 3 (ipykernel)",
   "language": "python",
   "name": "python3"
  },
  "language_info": {
   "codemirror_mode": {
    "name": "ipython",
    "version": 3
   },
   "file_extension": ".py",
   "mimetype": "text/x-python",
   "name": "python",
   "nbconvert_exporter": "python",
   "pygments_lexer": "ipython3",
   "version": "3.9.12"
  }
 },
 "nbformat": 4,
 "nbformat_minor": 5
}
