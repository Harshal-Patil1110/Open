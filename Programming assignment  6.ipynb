{
 "cells": [
  {
   "cell_type": "markdown",
   "id": "0ee9642e",
   "metadata": {},
   "source": [
    "1. Write a Python Program to Display Fibonacci Sequence Using Recursion?"
   ]
  },
  {
   "cell_type": "code",
   "execution_count": 31,
   "id": "7bc5b244",
   "metadata": {},
   "outputs": [
    {
     "name": "stdout",
     "output_type": "stream",
     "text": [
      "Enter the number of terms: 3\n",
      "Fibonacci sequence:\n",
      "0 1 1 "
     ]
    }
   ],
   "source": [
    "def fibonacci(n):\n",
    "    if n <= 1:\n",
    "        return n\n",
    "    else:\n",
    "        return (fibonacci(n-1) + fibonacci(n-2))\n",
    "\n",
    "# take input from the user\n",
    "terms = int(input(\"Enter the number of terms: \"))\n",
    "\n",
    "# check if the number of terms is valid\n",
    "if terms <= 0:\n",
    "    print(\"Invalid input!\")\n",
    "else:\n",
    "    print(\"Fibonacci sequence:\")\n",
    "    for i in range(terms):\n",
    "        print(fibonacci(i), end=\" \")\n"
   ]
  },
  {
   "cell_type": "markdown",
   "id": "df39cd22",
   "metadata": {},
   "source": [
    "2. Write a Python Program to Find Factorial of Number Using Recursion?"
   ]
  },
  {
   "cell_type": "code",
   "execution_count": 32,
   "id": "87aafecb",
   "metadata": {},
   "outputs": [
    {
     "name": "stdout",
     "output_type": "stream",
     "text": [
      "Enter a number: 10\n",
      "The factorial of 10 is 3628800\n"
     ]
    }
   ],
   "source": [
    "def factorial(n):\n",
    "    if n == 1:\n",
    "        return 1\n",
    "    else:\n",
    "        return n * factorial(n-1)\n",
    "\n",
    "# Get input from the user\n",
    "num = int(input(\"Enter a number: \"))\n",
    "\n",
    "# Check if the input is valid\n",
    "if num < 0:\n",
    "    print(\"Factorial does not exist for negative numbers\")\n",
    "elif num == 0:\n",
    "    print(\"The factorial of 0 is 1\")\n",
    "else:\n",
    "    print(\"The factorial of\", num, \"is\", factorial(num))\n"
   ]
  },
  {
   "cell_type": "markdown",
   "id": "1013d379",
   "metadata": {},
   "source": [
    "3. Write a Python Program to calculate your Body Mass Index?"
   ]
  },
  {
   "cell_type": "code",
   "execution_count": 34,
   "id": "f9eec4f8",
   "metadata": {},
   "outputs": [
    {
     "name": "stdout",
     "output_type": "stream",
     "text": [
      "Enter your weight in kg: 62.5\n",
      "Enter your height in meters: 1.8\n",
      "Your BMI is:  19.29\n",
      "Normal weight\n"
     ]
    }
   ],
   "source": [
    "# function to calculate BMI\n",
    "def calculate_bmi(weight, height):\n",
    "    bmi = weight / (height**2)\n",
    "    return bmi\n",
    "\n",
    "# main program\n",
    "weight = float(input(\"Enter your weight in kg: \"))\n",
    "height = float(input(\"Enter your height in meters: \"))\n",
    "\n",
    "bmi = calculate_bmi(weight, height)\n",
    "\n",
    "print(\"Your BMI is: \", round(bmi, 2))\n",
    "\n",
    "# check BMI category\n",
    "if bmi < 18.5:\n",
    "    print(\"Underweight\")\n",
    "elif bmi >= 18.5 and bmi <= 24.9:\n",
    "    print(\"Normal weight\")\n",
    "elif bmi >= 25 and bmi <= 29.9:\n",
    "    print(\"Overweight\")\n",
    "else:\n",
    "    print(\"Obese\")\n"
   ]
  },
  {
   "cell_type": "markdown",
   "id": "a7208f2f",
   "metadata": {},
   "source": [
    "4. Write a Python Program to calculate the natural logarithm of any number?"
   ]
  },
  {
   "cell_type": "code",
   "execution_count": 35,
   "id": "6eb0ffb7",
   "metadata": {},
   "outputs": [
    {
     "name": "stdout",
     "output_type": "stream",
     "text": [
      "Enter a number: 20\n",
      "The natural logarithm of 20.0 is 3.00\n"
     ]
    }
   ],
   "source": [
    "import math\n",
    "\n",
    "num = float(input(\"Enter a number: \"))\n",
    "\n",
    "if num <= 0:\n",
    "    print(\"Invalid input. The number must be positive.\")\n",
    "else:\n",
    "    result = math.log(num)\n",
    "    print(f\"The natural logarithm of {num} is {result:.2f}\")\n"
   ]
  },
  {
   "cell_type": "markdown",
   "id": "ed937935",
   "metadata": {},
   "source": [
    "5. Write a Python Program for cube sum of first n natural numbers?"
   ]
  },
  {
   "cell_type": "code",
   "execution_count": 36,
   "id": "c93e78d1",
   "metadata": {},
   "outputs": [
    {
     "name": "stdout",
     "output_type": "stream",
     "text": [
      "Enter the value of n: 5\n",
      "The cube sum of first 5 natural numbers is 225\n"
     ]
    }
   ],
   "source": [
    "n = int(input(\"Enter the value of n: \"))\n",
    "sum = 0\n",
    "\n",
    "for i in range(1, n+1):\n",
    "    sum += i**3\n",
    "\n",
    "print(\"The cube sum of first\", n, \"natural numbers is\", sum)\n"
   ]
  },
  {
   "cell_type": "markdown",
   "id": "539629ee",
   "metadata": {},
   "source": []
  },
  {
   "cell_type": "code",
   "execution_count": null,
   "id": "6adf4bdb",
   "metadata": {},
   "outputs": [],
   "source": []
  },
  {
   "cell_type": "code",
   "execution_count": null,
   "id": "6dab2f45",
   "metadata": {},
   "outputs": [],
   "source": []
  }
 ],
 "metadata": {
  "kernelspec": {
   "display_name": "Python 3 (ipykernel)",
   "language": "python",
   "name": "python3"
  },
  "language_info": {
   "codemirror_mode": {
    "name": "ipython",
    "version": 3
   },
   "file_extension": ".py",
   "mimetype": "text/x-python",
   "name": "python",
   "nbconvert_exporter": "python",
   "pygments_lexer": "ipython3",
   "version": "3.9.12"
  }
 },
 "nbformat": 4,
 "nbformat_minor": 5
}
