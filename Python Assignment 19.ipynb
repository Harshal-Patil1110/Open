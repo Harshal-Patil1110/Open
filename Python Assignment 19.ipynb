{
 "cells": [
  {
   "cell_type": "markdown",
   "id": "428c1ba8",
   "metadata": {},
   "source": [
    "Question1\n",
    "Create a function that takes a string and returns a string in which each character is repeated\n",
    "once.\n",
    "Examples\n",
    "double_char(\"String\") ➞ \"SSttrriinngg\";\n",
    "double_char(\"Hello World!\"\") ➞ \"HHeelllloo WWoorrlldd!!\"\n",
    "double_char(\"1234!_ \") ➞ \"11223344!!__\""
   ]
  },
  {
   "cell_type": "code",
   "execution_count": 10,
   "id": "3711c390",
   "metadata": {},
   "outputs": [
    {
     "name": "stdout",
     "output_type": "stream",
     "text": [
      "SSttrriinngg\n",
      "HHeelllloo  WWoorrlldd!!\n",
      "11223344!!__  \n"
     ]
    }
   ],
   "source": [
    "def double_char(txt):\n",
    "    new_str = \"\"\n",
    "    for char in txt:\n",
    "        new_str += char*2\n",
    "    return new_str\n",
    "print(double_char(\"String\"))  # Output: SSttrriinngg\n",
    "print(double_char(\"Hello World!\"))  # Output: HHeelllloo  WWoorrlldd!!\n",
    "print(double_char(\"1234!_ \"))  # Output: 11223344!!__\n"
   ]
  },
  {
   "cell_type": "markdown",
   "id": "73a2081c",
   "metadata": {},
   "source": [
    "Question2\n",
    "Create a function that reverses a boolean value and returns the string &quot;boolean expected&quot;\n",
    "if another variable type is given.\n",
    "Examples\n",
    "reverse(True) ➞ False\n",
    "reverse(False) ➞ True\n",
    "reverse(0) ➞ \"boolean expected\";\n",
    "reverse(None) ➞ \"boolean expected\";"
   ]
  },
  {
   "cell_type": "code",
   "execution_count": 13,
   "id": "91d342b8",
   "metadata": {},
   "outputs": [
    {
     "name": "stdout",
     "output_type": "stream",
     "text": [
      "False\n",
      "True\n",
      "boolean expected\n",
      "boolean expected\n"
     ]
    }
   ],
   "source": [
    "def reverse(b):\n",
    "    if type(b) != bool:\n",
    "        return \"boolean expected\"\n",
    "    else:\n",
    "        return not b\n",
    "print(reverse(True))  # Output: False\n",
    "print(reverse(False))  # Output: True\n",
    "print(reverse(0))  # Output: boolean expected\n",
    "print(reverse(None))  # Output: boolean expected\n"
   ]
  },
  {
   "cell_type": "markdown",
   "id": "761f9499",
   "metadata": {},
   "source": [
    "Question3\n",
    "Create a function that returns the thickness (in meters) of a piece of paper after folding it n\n",
    "number of times. The paper starts off with a thickness of 0.5mm.\n",
    "Examples\n",
    "num_layers(1) ➞\"0.001\"\n",
    "# Paper folded once is 1mm (equal to 0.001m)\n",
    "num_layers(4) ➞ \"0.008\"\n",
    "# Paper folded 4 times is 8mm (equal to 0.008m)\n",
    "num_layers(21) ➞\"1048.576\"\n",
    "# Paper folded 21 times is 1048576mm (equal to 1048.576m)"
   ]
  },
  {
   "cell_type": "code",
   "execution_count": 15,
   "id": "0890e817",
   "metadata": {},
   "outputs": [
    {
     "name": "stdout",
     "output_type": "stream",
     "text": [
      "0.001\n",
      "0.008\n",
      "1048.576\n"
     ]
    }
   ],
   "source": [
    "def num_layers(n):\n",
    "    thickness_mm = 0.5 * (2 ** n)\n",
    "    thickness_m = thickness_mm / 1000\n",
    "    return \"{:.3f}\".format(thickness_m)\n",
    "print(num_layers(1))  \n",
    "print(num_layers(4))  \n",
    "print(num_layers(21))  \n"
   ]
  },
  {
   "cell_type": "markdown",
   "id": "91bfb8da",
   "metadata": {},
   "source": [
    "Question4\n",
    "\n",
    "Create a function that takes a single string as argument and returns an ordered list containing\n",
    "the indices of all capital letters in the string.\n",
    "Examples\n",
    "index_of_caps(\"eDaBiT\") ➞ [1, 3, 5]\n",
    "index_of_caps(\"eQuINoX\") ➞ [1, 3, 4, 6]\n",
    "index_of_caps(\"determine\") ➞ []\n",
    "index_of_caps(\"STRIKE\") ➞ [0, 1, 2, 3, 4, 5]\n",
    "index_of_caps(\"sUn\") ➞ [1]"
   ]
  },
  {
   "cell_type": "code",
   "execution_count": 17,
   "id": "6a5d837e",
   "metadata": {},
   "outputs": [
    {
     "name": "stdout",
     "output_type": "stream",
     "text": [
      "[1, 3, 5]\n",
      "[1, 3, 4, 6]\n",
      "[]\n",
      "[0, 1, 2, 3, 4, 5]\n",
      "[1]\n"
     ]
    }
   ],
   "source": [
    "def index_of_caps(word):\n",
    "    caps_indices = []\n",
    "    for i, char in enumerate(word):\n",
    "        if char.isupper():\n",
    "            caps_indices.append(i)\n",
    "    return caps_indices\n",
    "print(index_of_caps(\"eDaBiT\"))  \n",
    "print(index_of_caps(\"eQuINoX\")) \n",
    "print(index_of_caps(\"determine\"))  \n",
    "print(index_of_caps(\"STRIKE\"))  \n",
    "print(index_of_caps(\"sUn\"))  \n"
   ]
  },
  {
   "cell_type": "markdown",
   "id": "fcf6680a",
   "metadata": {},
   "source": [
    "Question5\n",
    "Using list comprehensions, create a function that finds all even numbers from 1 to the given\n",
    "number.\n",
    "Examples\n",
    "find_even_nums(8) ➞ [2, 4, 6, 8]\n",
    "find_even_nums(4) ➞ [2, 4]\n",
    "find_even_nums(2) ➞ [2]"
   ]
  },
  {
   "cell_type": "code",
   "execution_count": 18,
   "id": "2809b3f5",
   "metadata": {},
   "outputs": [
    {
     "data": {
      "text/plain": [
       "[2]"
      ]
     },
     "execution_count": 18,
     "metadata": {},
     "output_type": "execute_result"
    }
   ],
   "source": [
    "def find_even_nums(n):\n",
    "    return [i for i in range(1, n+1) if i % 2 == 0]\n",
    "find_even_nums(8)\n",
    "[2, 4, 6, 8]\n",
    "find_even_nums(4)\n",
    "[2, 4]\n",
    "find_even_nums(2)\n",
    "[2]\n"
   ]
  },
  {
   "cell_type": "code",
   "execution_count": null,
   "id": "7bbc5d16",
   "metadata": {},
   "outputs": [],
   "source": []
  }
 ],
 "metadata": {
  "kernelspec": {
   "display_name": "Python 3 (ipykernel)",
   "language": "python",
   "name": "python3"
  },
  "language_info": {
   "codemirror_mode": {
    "name": "ipython",
    "version": 3
   },
   "file_extension": ".py",
   "mimetype": "text/x-python",
   "name": "python",
   "nbconvert_exporter": "python",
   "pygments_lexer": "ipython3",
   "version": "3.9.12"
  }
 },
 "nbformat": 4,
 "nbformat_minor": 5
}
