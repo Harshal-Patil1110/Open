{
 "cells": [
  {
   "cell_type": "raw",
   "id": "55c197be",
   "metadata": {},
   "source": [
    "1. What exactly is []?\n",
    "Ans:\n",
    "'[]' is an empty list value\n",
    "Lists are used to store multiple items in a single variable."
   ]
  },
  {
   "cell_type": "raw",
   "id": "253a0ba5",
   "metadata": {},
   "source": [
    "2. In a list of values stored in a variable called spam, how would you assign the value 'hello' as the\n",
    "third value? (Assume [2, 4, 6, 8, 10] are in spam.)"
   ]
  },
  {
   "cell_type": "code",
   "execution_count": 1,
   "id": "84cdc06d",
   "metadata": {},
   "outputs": [
    {
     "data": {
      "text/plain": [
       "[2, 4, 'hello', 8, 10]"
      ]
     },
     "execution_count": 1,
     "metadata": {},
     "output_type": "execute_result"
    }
   ],
   "source": [
    "# solution by changing the value in index 3\n",
    "spam = [2, 4, 6, 8, 10]\n",
    "spam[2] = 'hello'\n",
    "spam"
   ]
  },
  {
   "cell_type": "raw",
   "id": "2877742a",
   "metadata": {},
   "source": [
    "Let's pretend the spam includes the list ['a','b','c','d'] for the next three queries."
   ]
  },
  {
   "cell_type": "raw",
   "id": "1cf696b7",
   "metadata": {},
   "source": [
    "3) What is the value of spam[int(int(3 * 2) / 11)]?"
   ]
  },
  {
   "cell_type": "code",
   "execution_count": 3,
   "id": "5a3572c0",
   "metadata": {},
   "outputs": [
    {
     "data": {
      "text/plain": [
       "'d'"
      ]
     },
     "execution_count": 3,
     "metadata": {},
     "output_type": "execute_result"
    }
   ],
   "source": [
    "spam = ['a', 'b','c','d']\n",
    "spam[int(int('3' * 2) / 11)]"
   ]
  },
  {
   "cell_type": "raw",
   "id": "9199e4e7",
   "metadata": {},
   "source": [
    "4) What is the value of spam[-1]?"
   ]
  },
  {
   "cell_type": "code",
   "execution_count": 4,
   "id": "1d2eed0a",
   "metadata": {},
   "outputs": [
    {
     "data": {
      "text/plain": [
       "'d'"
      ]
     },
     "execution_count": 4,
     "metadata": {},
     "output_type": "execute_result"
    }
   ],
   "source": [
    "spam = ['a', 'b','c','d']\n",
    "spam[-1]"
   ]
  },
  {
   "cell_type": "raw",
   "id": "f11ae547",
   "metadata": {},
   "source": [
    "5) What is the value of spam[:2]?"
   ]
  },
  {
   "cell_type": "code",
   "execution_count": 5,
   "id": "36ae70d5",
   "metadata": {},
   "outputs": [
    {
     "data": {
      "text/plain": [
       "['a', 'b']"
      ]
     },
     "execution_count": 5,
     "metadata": {},
     "output_type": "execute_result"
    }
   ],
   "source": [
    "spam[:2]"
   ]
  },
  {
   "cell_type": "raw",
   "id": "7e6706f5",
   "metadata": {},
   "source": [
    "Let's pretend bacon has the list [3.14, 'cat' 11, 'cat' True] for the next three questions.\n",
    "\n",
    "6)What is the value of bacon.index('cat')?"
   ]
  },
  {
   "cell_type": "code",
   "execution_count": 6,
   "id": "bc1998dc",
   "metadata": {},
   "outputs": [
    {
     "data": {
      "text/plain": [
       "1"
      ]
     },
     "execution_count": 6,
     "metadata": {},
     "output_type": "execute_result"
    }
   ],
   "source": [
    "bacon = [3.14, 'cat', 11, 'cat', True]\n",
    "bacon.index('cat')"
   ]
  },
  {
   "cell_type": "raw",
   "id": "ebd3414a",
   "metadata": {},
   "source": [
    "7) How does bacon.append(99) change the look of the list value in bacon?"
   ]
  },
  {
   "cell_type": "code",
   "execution_count": 7,
   "id": "927ee094",
   "metadata": {},
   "outputs": [
    {
     "data": {
      "text/plain": [
       "[3.14, 'cat', 11, 'cat', True, 99]"
      ]
     },
     "execution_count": 7,
     "metadata": {},
     "output_type": "execute_result"
    }
   ],
   "source": [
    "bacon = [3.14, 'cat', 11, 'cat', True]\n",
    "bacon.append(99)\n",
    "bacon"
   ]
  },
  {
   "cell_type": "raw",
   "id": "08883eff",
   "metadata": {},
   "source": [
    "8) How does bacon.remove('cat') change the look of the list in bacon?"
   ]
  },
  {
   "cell_type": "code",
   "execution_count": 8,
   "id": "57a1e604",
   "metadata": {},
   "outputs": [
    {
     "data": {
      "text/plain": [
       "[3.14, 11, 'cat', True]"
      ]
     },
     "execution_count": 8,
     "metadata": {},
     "output_type": "execute_result"
    }
   ],
   "source": [
    "bacon = [3.14, 'cat', 11, 'cat', True]\n",
    "bacon.remove('cat')\n",
    "bacon"
   ]
  },
  {
   "cell_type": "raw",
   "id": "e07069d6",
   "metadata": {},
   "source": [
    "9) What are the list concatenation and list replication operators?\n",
    "Ans:\n",
    "( * ) is list replication operator ( + ) is list concatenation operator"
   ]
  },
  {
   "cell_type": "code",
   "execution_count": 9,
   "id": "07adc06c",
   "metadata": {},
   "outputs": [
    {
     "data": {
      "text/plain": [
       "[1, 4, 2, 5]"
      ]
     },
     "execution_count": 9,
     "metadata": {},
     "output_type": "execute_result"
    }
   ],
   "source": [
    "l1 = [1,4]\n",
    "l2 = [2,5]\n",
    "# list concatination\n",
    "l1+l2"
   ]
  },
  {
   "cell_type": "code",
   "execution_count": 10,
   "id": "fb2664c4",
   "metadata": {},
   "outputs": [
    {
     "data": {
      "text/plain": [
       "[7, 4, 7, 4, 7, 4]"
      ]
     },
     "execution_count": 10,
     "metadata": {},
     "output_type": "execute_result"
    }
   ],
   "source": [
    "l1 = [7,4]\n",
    "\n",
    "# list replication\n",
    "l1*3"
   ]
  },
  {
   "cell_type": "raw",
   "id": "376cda13",
   "metadata": {},
   "source": [
    "10) What is difference between the list methods append() and insert()?\n",
    "Ans:\n",
    "append() Appends object to the end of the list\n",
    "insert() Insert object before index"
   ]
  },
  {
   "cell_type": "code",
   "execution_count": 11,
   "id": "844e63b4",
   "metadata": {},
   "outputs": [
    {
     "data": {
      "text/plain": [
       "[3.14, 'cat', 11, 'cat', True, 99]"
      ]
     },
     "execution_count": 11,
     "metadata": {},
     "output_type": "execute_result"
    }
   ],
   "source": [
    "bacon = [3.14, 'cat', 11, 'cat', True]\n",
    "bacon.append(99)\n",
    "bacon"
   ]
  },
  {
   "cell_type": "code",
   "execution_count": 12,
   "id": "7680252e",
   "metadata": {},
   "outputs": [
    {
     "data": {
      "text/plain": [
       "[2, 4, 'hello', 6, 8, 10]"
      ]
     },
     "execution_count": 12,
     "metadata": {},
     "output_type": "execute_result"
    }
   ],
   "source": [
    "spam = [2, 4, 6, 8, 10]\n",
    "spam.insert(2,'hello')\n",
    "spam"
   ]
  },
  {
   "cell_type": "raw",
   "id": "9943ee82",
   "metadata": {},
   "source": [
    "11) What are the two methods for removing items from a list?\n"
   ]
  },
  {
   "cell_type": "code",
   "execution_count": 13,
   "id": "30d3f237",
   "metadata": {},
   "outputs": [
    {
     "data": {
      "text/plain": [
       "[3.14, 11, 'cat', True]"
      ]
     },
     "execution_count": 13,
     "metadata": {},
     "output_type": "execute_result"
    }
   ],
   "source": [
    "#remove(item) - removes first occurence of a item\n",
    "bacon = [3.14, 'cat', 11, 'cat', True]\n",
    "bacon.remove('cat')\n",
    "bacon"
   ]
  },
  {
   "cell_type": "code",
   "execution_count": 14,
   "id": "25f224e9",
   "metadata": {},
   "outputs": [
    {
     "data": {
      "text/plain": [
       "[3.14, 'cat', 11, 'cat']"
      ]
     },
     "execution_count": 14,
     "metadata": {},
     "output_type": "execute_result"
    }
   ],
   "source": [
    "#pop() - Remove and returns item at index (default last).\n",
    "bacon = [3.14, 'cat', 11, 'cat', True]\n",
    "bacon.pop()\n",
    "bacon"
   ]
  },
  {
   "cell_type": "raw",
   "id": "c31c7643",
   "metadata": {},
   "source": [
    "12) Describe how list values and string values are identical.\n",
    "Ans:\n",
    "Both lists and strings can be passed to len()\n",
    "Have indexes and slices\n",
    "Can be used in for loops\n",
    "Can be concatenated or replicated\n",
    "Can be used with the in and not in operators"
   ]
  },
  {
   "cell_type": "raw",
   "id": "a69e2a4a",
   "metadata": {},
   "source": [
    "13) What's the difference between tuples and lists?\n",
    "Ans:\n",
    "Lists : are mutable - they can have values added, removed, or changed. lists use the square brackets, [ and ]\n",
    "Tuples : are immutable; they cannot be changed at all. Tuples are written using parentheses, ( and )"
   ]
  },
  {
   "cell_type": "raw",
   "id": "300785be",
   "metadata": {},
   "source": [
    "14) How do you type a tuple value that only contains the integer 42?"
   ]
  },
  {
   "cell_type": "code",
   "execution_count": 15,
   "id": "ff7ec3db",
   "metadata": {},
   "outputs": [
    {
     "data": {
      "text/plain": [
       "42"
      ]
     },
     "execution_count": 15,
     "metadata": {},
     "output_type": "execute_result"
    }
   ],
   "source": [
    "tuple = (42)\n",
    "tuple"
   ]
  },
  {
   "cell_type": "raw",
   "id": "9b7ddbcd",
   "metadata": {},
   "source": [
    "15) How do you get a list value's tuple form? How do you get a tuple value's list form?"
   ]
  },
  {
   "cell_type": "code",
   "execution_count": null,
   "id": "69cb4227",
   "metadata": {},
   "outputs": [],
   "source": [
    "l1 = [2,3]\n",
    "l = tuple(l1)\n",
    "l"
   ]
  },
  {
   "cell_type": "code",
   "execution_count": null,
   "id": "f59967c4",
   "metadata": {},
   "outputs": [],
   "source": [
    "t1 = (3,4)\n",
    "t = list(t1)\n",
    "t"
   ]
  },
  {
   "cell_type": "raw",
   "id": "b6e0d8af",
   "metadata": {},
   "source": [
    "16) Variables that \"contain\" list values are not necessarily lists themselves. Instead, what do they contain?\n",
    "Ans:\n",
    "They contain references to list values"
   ]
  },
  {
   "cell_type": "raw",
   "id": "97158aae",
   "metadata": {},
   "source": [
    "17) How do you distinguish between copy.copy() and copy.deepcopy()?\n",
    "Ans:\n",
    "The copy.copy() function will do a shallow copy of a list,\n",
    "The copy.deepcopy() function will do a deep copy of a list. only copy.deepcopy() will duplicate any lists inside the list"
   ]
  }
 ],
 "metadata": {
  "kernelspec": {
   "display_name": "Python 3 (ipykernel)",
   "language": "python",
   "name": "python3"
  },
  "language_info": {
   "codemirror_mode": {
    "name": "ipython",
    "version": 3
   },
   "file_extension": ".py",
   "mimetype": "text/x-python",
   "name": "python",
   "nbconvert_exporter": "python",
   "pygments_lexer": "ipython3",
   "version": "3.9.12"
  }
 },
 "nbformat": 4,
 "nbformat_minor": 5
}
