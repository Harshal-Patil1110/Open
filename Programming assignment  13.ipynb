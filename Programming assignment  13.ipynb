{
 "cells": [
  {
   "cell_type": "markdown",
   "id": "8d635e60",
   "metadata": {},
   "source": [
    "Question 1:\n",
    "Write a program that calculates and prints the value according to the given formula:\n",
    "Q = Square root of [(2 * C * D)/H]\n",
    "Following are the fixed values of C and H:\n",
    "C is 50. H is 30.\n",
    "D is the variable whose values should be input to your program in a comma-separated\n",
    "sequence.\n",
    "Example\n",
    "Let us assume the following comma separated input sequence is given to the program:\n",
    "100,150,180\n",
    "The output of the program should be:\n",
    "18,22,24"
   ]
  },
  {
   "cell_type": "code",
   "execution_count": 1,
   "id": "fc308092",
   "metadata": {},
   "outputs": [
    {
     "name": "stdout",
     "output_type": "stream",
     "text": [
      "Enter values of D (comma-separated): 100,150,180\n",
      "18,22,24\n"
     ]
    }
   ],
   "source": [
    "import math\n",
    "\n",
    "C = 50\n",
    "H = 30\n",
    "\n",
    "# get input values of D as a comma-separated string\n",
    "input_str = input(\"Enter values of D (comma-separated): \")\n",
    "\n",
    "# convert input string into a list of integers\n",
    "D_list = list(map(int, input_str.split(\",\")))\n",
    "\n",
    "# calculate Q for each value of D and print the results\n",
    "result = []\n",
    "for D in D_list:\n",
    "    Q = round(math.sqrt((2 * C * D) / H))\n",
    "    result.append(str(Q))\n",
    "\n",
    "print(\",\".join(result))\n"
   ]
  },
  {
   "cell_type": "markdown",
   "id": "79008775",
   "metadata": {},
   "source": [
    "2) Write a program which takes 2 digits, X,Y as input and generates a 2-dimensional array. The\n",
    "element value in the i-th row and j-th column of the array should be i*j.\n",
    "Note: i=0,1.., X-1; j=0,1,¡Y-1.\n",
    "Example\n",
    "Suppose the following inputs are given to the program:\n",
    "3,5\n",
    "Then, the output of the program should be:\n",
    "[[0, 0, 0, 0, 0], [0, 1, 2, 3, 4], [0, 2, 4, 6, 8]]"
   ]
  },
  {
   "cell_type": "code",
   "execution_count": 2,
   "id": "20f2cd88",
   "metadata": {},
   "outputs": [
    {
     "name": "stdout",
     "output_type": "stream",
     "text": [
      "Enter two numbers: 3,5\n",
      "[[0, 0, 0, 0, 0], [0, 1, 2, 3, 4], [0, 2, 4, 6, 8]]\n"
     ]
    }
   ],
   "source": [
    "# take input from the user\n",
    "X, Y = map(int, input(\"Enter two numbers: \").split(\",\"))\n",
    "\n",
    "# initialize an empty 2-dimensional array\n",
    "result = []\n",
    "\n",
    "# loop through X rows\n",
    "for i in range(X):\n",
    "    # initialize an empty row\n",
    "    row = []\n",
    "    # loop through Y columns\n",
    "    for j in range(Y):\n",
    "        # append i*j to the row\n",
    "        row.append(i*j)\n",
    "    # append the row to the result\n",
    "    result.append(row)\n",
    "\n",
    "# print the result\n",
    "print(result)\n"
   ]
  },
  {
   "cell_type": "markdown",
   "id": "892c7442",
   "metadata": {},
   "source": [
    "Question 3:\n",
    "Write a program that accepts a comma separated sequence of words as input and prints the\n",
    "words in a comma-separated sequence after sorting them alphabetically.\n",
    "Suppose the following input is supplied to the program:\n",
    "without,hello,bag,world\n",
    "Then, the output should be:\n",
    "bag,hello,without,world"
   ]
  },
  {
   "cell_type": "code",
   "execution_count": 3,
   "id": "407b7f45",
   "metadata": {},
   "outputs": [
    {
     "name": "stdout",
     "output_type": "stream",
     "text": [
      "Enter a comma separated sequence of words: without,hello,bag,world\n",
      "Sorted words: bag,hello,without,world\n"
     ]
    }
   ],
   "source": [
    "user_input = input(\"Enter a comma separated sequence of words: \")\n",
    "words = user_input.split(\",\")\n",
    "words.sort()\n",
    "print(\"Sorted words:\", \",\".join(words))\n"
   ]
  },
  {
   "cell_type": "markdown",
   "id": "30936e13",
   "metadata": {},
   "source": [
    "Question 4:\n",
    "Write a program that accepts a sequence of whitespace separated words as input and prints\n",
    "the words after removing all duplicate words and sorting them alphanumerically.\n",
    "Suppose the following input is supplied to the program:\n",
    "hello world and practice makes perfect and hello world again\n",
    "Then, the output should be:\n",
    "again and hello makes perfect practice world"
   ]
  },
  {
   "cell_type": "code",
   "execution_count": 4,
   "id": "0ff1996e",
   "metadata": {},
   "outputs": [
    {
     "name": "stdout",
     "output_type": "stream",
     "text": [
      "Enter a sequence of whitespace separated words: hello world and practice makes perfect and hello world again\n",
      "again and hello makes perfect practice world\n"
     ]
    }
   ],
   "source": [
    "input_string = input(\"Enter a sequence of whitespace separated words: \")\n",
    "\n",
    "# Split the input string into a list of individual words\n",
    "words = input_string.split()\n",
    "\n",
    "# Use a set to remove duplicates from the list\n",
    "unique_words = set(words)\n",
    "\n",
    "# Sort the list alphabetically\n",
    "sorted_words = sorted(unique_words)\n",
    "\n",
    "# Join the sorted list of words using whitespace as separator\n",
    "result = ' '.join(sorted_words)\n",
    "\n",
    "# Print the resulting string\n",
    "print(result)\n"
   ]
  },
  {
   "cell_type": "markdown",
   "id": "5af9e7af",
   "metadata": {},
   "source": [
    "Question 5:\n",
    "Write a program that accepts a sentence and calculate the number of letters and digits.\n",
    "Suppose the following input is supplied to the program:\n",
    "hello world! 123\n",
    "Then, the output should be:\n",
    "LETTERS 10\n",
    "\n",
    "DIGITS 3"
   ]
  },
  {
   "cell_type": "code",
   "execution_count": 6,
   "id": "0362ec97",
   "metadata": {},
   "outputs": [
    {
     "name": "stdout",
     "output_type": "stream",
     "text": [
      "Enter a sentence: hi hello how 123\n",
      "LETTERS 10\n",
      "DIGITS 3\n"
     ]
    }
   ],
   "source": [
    "input_string = input(\"Enter a sentence: \")\n",
    "letter_count = 0\n",
    "digit_count = 0\n",
    "\n",
    "for char in input_string:\n",
    "    if char.isalpha():\n",
    "        letter_count += 1\n",
    "    elif char.isdigit():\n",
    "        digit_count += 1\n",
    "\n",
    "print(\"LETTERS\", letter_count)\n",
    "print(\"DIGITS\", digit_count)\n"
   ]
  },
  {
   "cell_type": "markdown",
   "id": "ecda8b56",
   "metadata": {},
   "source": [
    "Question 6:\n",
    "A website requires the users to input username and password to register. Write a program to\n",
    "check the validity of password input by users.\n",
    "Following are the criteria for checking the password:\n",
    "1. At least 1 letter between [a-z]\n",
    "2. At least 1 number between [0-9]\n",
    "1. At least 1 letter between [A-Z]\n",
    "3. At least 1 character from [$#@]\n",
    "4. Minimum length of transaction password: 6\n",
    "5. Maximum length of transaction password: 12\n",
    "Your program should accept a sequence of comma separated passwords and will check them\n",
    "according to the above criteria. Passwords that match the criteria are to be printed, each\n",
    "separated by a comma.\n",
    "Example\n",
    "If the following passwords are given as input to the program:\n",
    "ABd1234@1,a F1#,2w3E*,2We3345\n",
    "Then, the output of the program should be:\n",
    "ABd1234@1"
   ]
  },
  {
   "cell_type": "code",
   "execution_count": 7,
   "id": "d0315857",
   "metadata": {},
   "outputs": [
    {
     "name": "stdout",
     "output_type": "stream",
     "text": [
      "Enter comma separated passwords: ABd1234@1,a F1#,2w3E*,2We3345\n",
      "ABd1234@1\n"
     ]
    }
   ],
   "source": [
    "import re\n",
    "\n",
    "passwords = input(\"Enter comma separated passwords: \").split(',')\n",
    "\n",
    "valid_passwords = []\n",
    "\n",
    "for password in passwords:\n",
    "    if len(password) < 6 or len(password) > 12:\n",
    "        continue\n",
    "    elif not re.search(\"[a-z]\", password):\n",
    "        continue\n",
    "    elif not re.search(\"[A-Z]\", password):\n",
    "        continue\n",
    "    elif not re.search(\"[0-9]\", password):\n",
    "        continue\n",
    "    elif not re.search(\"[$#@]\", password):\n",
    "        continue\n",
    "    else:\n",
    "        valid_passwords.append(password)\n",
    "\n",
    "print(\",\".join(valid_passwords))\n"
   ]
  },
  {
   "cell_type": "code",
   "execution_count": null,
   "id": "222d4083",
   "metadata": {},
   "outputs": [],
   "source": []
  }
 ],
 "metadata": {
  "kernelspec": {
   "display_name": "Python 3 (ipykernel)",
   "language": "python",
   "name": "python3"
  },
  "language_info": {
   "codemirror_mode": {
    "name": "ipython",
    "version": 3
   },
   "file_extension": ".py",
   "mimetype": "text/x-python",
   "name": "python",
   "nbconvert_exporter": "python",
   "pygments_lexer": "ipython3",
   "version": "3.9.12"
  }
 },
 "nbformat": 4,
 "nbformat_minor": 5
}
