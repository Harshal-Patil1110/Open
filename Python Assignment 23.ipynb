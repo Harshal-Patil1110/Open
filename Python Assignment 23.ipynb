{
 "cells": [
  {
   "cell_type": "markdown",
   "id": "2898aaad",
   "metadata": {},
   "source": [
    "Question 1\n",
    "Create a function that takes a number as an argument and returns True or False depending on whether the number is symmetrical or not. A number is symmetrical when it is the same as its reverse.\n",
    "Examples\n",
    "is_symmetrical(7227) ➞ True\n",
    "\n",
    "is_symmetrical(12567) ➞ False\n",
    "\n",
    "is_symmetrical(44444444) ➞ True\n",
    "\n",
    "is_symmetrical(9939) ➞ False\n",
    "\n",
    "is_symmetrical(1112111) ➞ True\n",
    "\n"
   ]
  },
  {
   "cell_type": "code",
   "execution_count": 71,
   "id": "34105a2b",
   "metadata": {},
   "outputs": [
    {
     "name": "stdout",
     "output_type": "stream",
     "text": [
      "True\n",
      "False\n",
      "True\n",
      "False\n",
      "True\n"
     ]
    }
   ],
   "source": [
    "def is_symmetrical(num):\n",
    "    return str(num) == str(num)[::-1]\n",
    "print(is_symmetrical(7227))  # True\n",
    "print(is_symmetrical(12567))  # False\n",
    "print(is_symmetrical(44444444))  # True\n",
    "print(is_symmetrical(9939))  # False\n",
    "print(is_symmetrical(1112111))  # True\n"
   ]
  },
  {
   "cell_type": "markdown",
   "id": "b9b0c9a0",
   "metadata": {},
   "source": [
    "Question 2\n",
    "Given a string of numbers separated by a comma and space, return the product of the numbers.\n",
    "Examples\n",
    "multiply_nums(\"2, 3\") ➞ 6\n",
    "\n",
    "multiply_nums(\"1, 2, 3, 4\") ➞ 24\n",
    "\n",
    "multiply_nums(\"54, 75, 453, 0\") ➞ 0\n",
    "\n",
    "multiply_nums(\"10, -2\") ➞ -20\n"
   ]
  },
  {
   "cell_type": "code",
   "execution_count": 72,
   "id": "3c4ee5dc",
   "metadata": {},
   "outputs": [
    {
     "name": "stdout",
     "output_type": "stream",
     "text": [
      "6\n",
      "24\n",
      "0\n",
      "-20\n"
     ]
    }
   ],
   "source": [
    "def multiply_nums(nums):\n",
    "    nums = nums.split(\", \")\n",
    "    product = 1\n",
    "    for num in nums:\n",
    "        product *= int(num)\n",
    "    return product\n",
    "print(multiply_nums(\"2, 3\"))    # Output: 6\n",
    "print(multiply_nums(\"1, 2, 3, 4\"))    # Output: 24\n",
    "print(multiply_nums(\"54, 75, 453, 0\"))    # Output: 0\n",
    "print(multiply_nums(\"10, -2\"))    # Output: -20\n"
   ]
  },
  {
   "cell_type": "markdown",
   "id": "34532979",
   "metadata": {},
   "source": [
    "Question 3\n",
    "Create a function that squares every digit of a number.\n",
    "Examples\n",
    "square_digits(9119) ➞ 811181\n",
    "\n",
    "square_digits(2483) ➞ 416649\n",
    "\n",
    "square_digits(3212) ➞ 9414\n",
    "Notes\n",
    "The function receives an integer and must return an integer."
   ]
  },
  {
   "cell_type": "code",
   "execution_count": 73,
   "id": "c117fb12",
   "metadata": {},
   "outputs": [
    {
     "name": "stdout",
     "output_type": "stream",
     "text": [
      "811181\n",
      "416649\n",
      "9414\n"
     ]
    }
   ],
   "source": [
    "def square_digits(num):\n",
    "    result = 0\n",
    "    position = 0\n",
    "    while num > 0:\n",
    "        digit = num % 10\n",
    "        squared_digit = digit ** 2\n",
    "        result += squared_digit * (10 ** position)\n",
    "        position += len(str(squared_digit))\n",
    "        num //= 10\n",
    "    return result\n",
    "print(square_digits(9119)) # Output: 811181\n",
    "print(square_digits(2483)) # Output: 416649\n",
    "print(square_digits(3212)) # Output: 9414\n"
   ]
  },
  {
   "cell_type": "markdown",
   "id": "da750d36",
   "metadata": {},
   "source": [
    "Question 4\n",
    "Create a function that sorts a list and removes all duplicate items from it.\n",
    "Examples\n",
    "setify([1, 3, 3, 5, 5]) ➞ [1, 3, 5]\n",
    "\n",
    "setify([4, 4, 4, 4]) ➞ [4]\n",
    "\n",
    "setify([5, 7, 8, 9, 10, 15]) ➞ [5, 7, 8, 9, 10, 15]\n",
    "\n",
    "setify([3, 3, 3, 2, 1]) ➞ [1, 2, 3]\n",
    "\n"
   ]
  },
  {
   "cell_type": "code",
   "execution_count": 75,
   "id": "494e861c",
   "metadata": {},
   "outputs": [
    {
     "name": "stdout",
     "output_type": "stream",
     "text": [
      "[1, 3, 5]\n",
      "[4]\n",
      "[5, 7, 8, 9, 10, 15]\n",
      "[1, 2, 3]\n"
     ]
    }
   ],
   "source": [
    "def setify(lst):\n",
    "    return sorted(list(set(lst)))\n",
    "print(setify([1, 3, 3, 5, 5])) # [1, 3, 5]\n",
    "print(setify([4, 4, 4, 4])) # [4]\n",
    "print(setify([5, 7, 8, 9, 10, 15])) # [5, 7, 8, 9, 10, 15]\n",
    "print(setify([3, 3, 3, 2, 1])) # [1, 2, 3]\n"
   ]
  },
  {
   "cell_type": "markdown",
   "id": "fce0d48e",
   "metadata": {},
   "source": [
    "Question 5\n",
    "Create a function that returns the mean of all digits.\n",
    "Examples\n",
    "mean(42) ➞ 3\n",
    "\n",
    "mean(12345) ➞ 3\n",
    "\n",
    "mean(666) ➞ 6\n",
    "Notes\n",
    "•\tThe mean of all digits is the sum of digits / how many digits there are (e.g. mean of digits in 512 is (5+1+2)/3(number of digits) = 8/3=2).\n",
    "•\tThe mean will always be an integer.\n"
   ]
  },
  {
   "cell_type": "code",
   "execution_count": 76,
   "id": "1202fca4",
   "metadata": {},
   "outputs": [
    {
     "name": "stdout",
     "output_type": "stream",
     "text": [
      "3\n",
      "3\n",
      "6\n"
     ]
    }
   ],
   "source": [
    "def mean(num):\n",
    "    digits = [int(d) for d in str(num)]  # Convert number to a list of digits\n",
    "    return sum(digits) // len(digits)   # Return the integer division of sum of digits by number of digits\n",
    "print(mean(42))    # Output: 3\n",
    "print(mean(12345)) # Output: 3\n",
    "print(mean(666))   # Output: 6\n"
   ]
  },
  {
   "cell_type": "code",
   "execution_count": null,
   "id": "9ac0b591",
   "metadata": {},
   "outputs": [],
   "source": []
  }
 ],
 "metadata": {
  "kernelspec": {
   "display_name": "Python 3 (ipykernel)",
   "language": "python",
   "name": "python3"
  },
  "language_info": {
   "codemirror_mode": {
    "name": "ipython",
    "version": 3
   },
   "file_extension": ".py",
   "mimetype": "text/x-python",
   "name": "python",
   "nbconvert_exporter": "python",
   "pygments_lexer": "ipython3",
   "version": "3.9.12"
  }
 },
 "nbformat": 4,
 "nbformat_minor": 5
}
