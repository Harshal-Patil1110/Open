{
 "cells": [
  {
   "cell_type": "markdown",
   "id": "5408a6e8",
   "metadata": {},
   "source": [
    "1. Write a Python Program to find sum of array?"
   ]
  },
  {
   "cell_type": "code",
   "execution_count": 37,
   "id": "064a207f",
   "metadata": {},
   "outputs": [
    {
     "ename": "TypeError",
     "evalue": "'int' object is not callable",
     "output_type": "error",
     "traceback": [
      "\u001b[1;31m---------------------------------------------------------------------------\u001b[0m",
      "\u001b[1;31mTypeError\u001b[0m                                 Traceback (most recent call last)",
      "Input \u001b[1;32mIn [37]\u001b[0m, in \u001b[0;36m<cell line: 5>\u001b[1;34m()\u001b[0m\n\u001b[0;32m      2\u001b[0m arr \u001b[38;5;241m=\u001b[39m [\u001b[38;5;241m1\u001b[39m, \u001b[38;5;241m2\u001b[39m, \u001b[38;5;241m3\u001b[39m, \u001b[38;5;241m4\u001b[39m, \u001b[38;5;241m5\u001b[39m]\n\u001b[0;32m      4\u001b[0m \u001b[38;5;66;03m# Calculate the sum of array elements\u001b[39;00m\n\u001b[1;32m----> 5\u001b[0m array_sum \u001b[38;5;241m=\u001b[39m \u001b[38;5;28;43msum\u001b[39;49m\u001b[43m(\u001b[49m\u001b[43marr\u001b[49m\u001b[43m)\u001b[49m\n\u001b[0;32m      7\u001b[0m \u001b[38;5;66;03m# Print the sum\u001b[39;00m\n\u001b[0;32m      8\u001b[0m \u001b[38;5;28mprint\u001b[39m(\u001b[38;5;124m\"\u001b[39m\u001b[38;5;124mSum of array elements:\u001b[39m\u001b[38;5;124m\"\u001b[39m, array_sum)\n",
      "\u001b[1;31mTypeError\u001b[0m: 'int' object is not callable"
     ]
    }
   ],
   "source": [
    "# Initialize the array\n",
    "arr = [1, 2, 3, 4, 5]\n",
    "\n",
    "# Calculate the sum of array elements\n",
    "array_sum = sum(arr)\n",
    "\n",
    "# Print the sum\n",
    "print(\"Sum of array elements:\", array_sum)\n"
   ]
  },
  {
   "cell_type": "markdown",
   "id": "dd6aa75f",
   "metadata": {},
   "source": [
    "2. Write a Python Program to find largest element in an array?"
   ]
  },
  {
   "cell_type": "code",
   "execution_count": 38,
   "id": "be1e0cb8",
   "metadata": {},
   "outputs": [
    {
     "name": "stdout",
     "output_type": "stream",
     "text": [
      "The largest element in the array is: 99\n"
     ]
    }
   ],
   "source": [
    "def find_largest(arr):\n",
    "    \"\"\"\n",
    "    This function takes an array as input and returns the largest element.\n",
    "    \"\"\"\n",
    "    max_elem = arr[0]\n",
    "    for i in range(1, len(arr)):\n",
    "        if arr[i] > max_elem:\n",
    "            max_elem = arr[i]\n",
    "    return max_elem\n",
    "\n",
    "# Example usage\n",
    "array = [10, 20, 4, 45, 99]\n",
    "print(\"The largest element in the array is:\", find_largest(array))\n"
   ]
  },
  {
   "cell_type": "markdown",
   "id": "c3af1f7a",
   "metadata": {},
   "source": [
    "3. Write a Python Program for array rotation?"
   ]
  },
  {
   "cell_type": "code",
   "execution_count": 39,
   "id": "dc99800c",
   "metadata": {},
   "outputs": [
    {
     "name": "stdout",
     "output_type": "stream",
     "text": [
      "3 4 5 1 2 "
     ]
    }
   ],
   "source": [
    "def leftRotate(arr, n, k):\n",
    "    # k modulo n\n",
    "    k = k % n\n",
    "    for i in range(n):\n",
    "        # Print rotated element\n",
    "        print(str(arr[(i + k) % n]), end=' ')\n",
    "\n",
    "# Test\n",
    "arr = [1, 2, 3, 4, 5]\n",
    "n = len(arr)\n",
    "k = 2\n",
    "leftRotate(arr, n, k)\n"
   ]
  },
  {
   "cell_type": "markdown",
   "id": "20fe065c",
   "metadata": {},
   "source": [
    "4. Write a Python Program to Split the array and add the first part to the end?"
   ]
  },
  {
   "cell_type": "code",
   "execution_count": 40,
   "id": "50fef675",
   "metadata": {},
   "outputs": [
    {
     "name": "stdout",
     "output_type": "stream",
     "text": [
      "[3, 4, 5, 1, 2]\n"
     ]
    }
   ],
   "source": [
    "def split_and_add(arr, pos):\n",
    "    # Split the array into two parts\n",
    "    part1 = arr[:pos]\n",
    "    part2 = arr[pos:]\n",
    "    \n",
    "    # Add the first part to the end of the second part\n",
    "    result = part2 + part1\n",
    "    \n",
    "    return result\n",
    "\n",
    "# Example usage\n",
    "arr = [1, 2, 3, 4, 5]\n",
    "pos = 2\n",
    "result = split_and_add(arr, pos)\n",
    "print(result)\n"
   ]
  },
  {
   "cell_type": "markdown",
   "id": "10200988",
   "metadata": {},
   "source": [
    "5. Write a Python Program to check if given array is Monotonic?"
   ]
  },
  {
   "cell_type": "code",
   "execution_count": 41,
   "id": "41584894",
   "metadata": {},
   "outputs": [
    {
     "name": "stdout",
     "output_type": "stream",
     "text": [
      "True\n",
      "True\n",
      "False\n"
     ]
    }
   ],
   "source": [
    "def is_monotonic(arr):\n",
    "    return (all(arr[i] <= arr[i+1] for i in range(len(arr)-1)) or \n",
    "            all(arr[i] >= arr[i+1] for i in range(len(arr)-1)))\n",
    "\n",
    "# Example usage:\n",
    "arr1 = [1, 2, 3, 4, 5]\n",
    "arr2 = [5, 4, 3, 2, 1]\n",
    "arr3 = [1, 2, 3, 2, 1]\n",
    "\n",
    "print(is_monotonic(arr1)) # True\n",
    "print(is_monotonic(arr2)) # True\n",
    "print(is_monotonic(arr3)) # False\n"
   ]
  },
  {
   "cell_type": "markdown",
   "id": "9cdd85ca",
   "metadata": {},
   "source": []
  },
  {
   "cell_type": "code",
   "execution_count": null,
   "id": "1ead0575",
   "metadata": {},
   "outputs": [],
   "source": []
  },
  {
   "cell_type": "code",
   "execution_count": null,
   "id": "7b92cd43",
   "metadata": {},
   "outputs": [],
   "source": []
  }
 ],
 "metadata": {
  "kernelspec": {
   "display_name": "Python 3 (ipykernel)",
   "language": "python",
   "name": "python3"
  },
  "language_info": {
   "codemirror_mode": {
    "name": "ipython",
    "version": 3
   },
   "file_extension": ".py",
   "mimetype": "text/x-python",
   "name": "python",
   "nbconvert_exporter": "python",
   "pygments_lexer": "ipython3",
   "version": "3.9.12"
  }
 },
 "nbformat": 4,
 "nbformat_minor": 5
}
