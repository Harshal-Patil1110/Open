{
 "cells": [
  {
   "cell_type": "markdown",
   "id": "73ff3a99",
   "metadata": {},
   "source": [
    "1. Write a Python program to convert kilometers to miles?"
   ]
  },
  {
   "cell_type": "code",
   "execution_count": 6,
   "id": "dfb1e5e1",
   "metadata": {},
   "outputs": [
    {
     "name": "stdout",
     "output_type": "stream",
     "text": [
      "Enter distance in kilometers: 5\n",
      "5.0 kilometers is equal to 3.106855 miles.\n"
     ]
    }
   ],
   "source": [
    "# get distance in kilometers\n",
    "km = float(input(\"Enter distance in kilometers: \"))\n",
    "\n",
    "# convert to miles (1 kilometer = 0.621371 miles)\n",
    "miles = km * 0.621371\n",
    "\n",
    "# print result\n",
    "print(km, \"kilometers is equal to\", miles, \"miles.\")\n"
   ]
  },
  {
   "cell_type": "markdown",
   "id": "82b436ea",
   "metadata": {},
   "source": [
    "2. Write a Python program to convert Celsius to Fahrenheit?"
   ]
  },
  {
   "cell_type": "code",
   "execution_count": 7,
   "id": "36254605",
   "metadata": {},
   "outputs": [
    {
     "name": "stdout",
     "output_type": "stream",
     "text": [
      "Enter temperature in Celsius: 5\n",
      "5.0 Celsius is equal to 41.0 Fahrenheit.\n"
     ]
    }
   ],
   "source": [
    "# get temperature in Celsius\n",
    "celsius = float(input(\"Enter temperature in Celsius: \"))\n",
    "\n",
    "# convert to Fahrenheit (F = C * 9/5 + 32)\n",
    "fahrenheit = celsius * 9/5 + 32\n",
    "\n",
    "# print result\n",
    "print(celsius, \"Celsius is equal to\", fahrenheit, \"Fahrenheit.\")\n"
   ]
  },
  {
   "cell_type": "markdown",
   "id": "7a9f0bc6",
   "metadata": {},
   "source": [
    "3. Write a Python program to display calendar?"
   ]
  },
  {
   "cell_type": "code",
   "execution_count": 9,
   "id": "278781bb",
   "metadata": {},
   "outputs": [
    {
     "name": "stdout",
     "output_type": "stream",
     "text": [
      "Enter the year: 2022\n",
      "Enter the month: 10\n",
      "    October 2022\n",
      "Mo Tu We Th Fr Sa Su\n",
      "                1  2\n",
      " 3  4  5  6  7  8  9\n",
      "10 11 12 13 14 15 16\n",
      "17 18 19 20 21 22 23\n",
      "24 25 26 27 28 29 30\n",
      "31\n",
      "\n"
     ]
    }
   ],
   "source": [
    "# import calendar module\n",
    "import calendar\n",
    "\n",
    "# prompt user for year and month\n",
    "year = int(input(\"Enter the year: \"))\n",
    "month = int(input(\"Enter the month: \"))\n",
    "\n",
    "# display calendar for the given year and month\n",
    "print(calendar.month(year, month))\n"
   ]
  },
  {
   "cell_type": "markdown",
   "id": "a1f77260",
   "metadata": {},
   "source": [
    "4. Write a Python program to solve quadratic equation?"
   ]
  },
  {
   "cell_type": "code",
   "execution_count": 10,
   "id": "af8f01ce",
   "metadata": {},
   "outputs": [
    {
     "name": "stdout",
     "output_type": "stream",
     "text": [
      "Enter the coefficient of x^2: 5\n",
      "Enter the coefficient of x: 4\n",
      "Enter the constant term: 4\n",
      "The solutions are (-0.4-0.8j) and (-0.4+0.8j)\n"
     ]
    }
   ],
   "source": [
    "# import complex math module\n",
    "import cmath\n",
    "\n",
    "# prompt user for coefficients of quadratic equation\n",
    "a = float(input(\"Enter the coefficient of x^2: \"))\n",
    "b = float(input(\"Enter the coefficient of x: \"))\n",
    "c = float(input(\"Enter the constant term: \"))\n",
    "\n",
    "# calculate the discriminant\n",
    "d = (b**2) - (4*a*c)\n",
    "\n",
    "# find two solutions\n",
    "sol1 = (-b - cmath.sqrt(d)) / (2*a)\n",
    "sol2 = (-b + cmath.sqrt(d)) / (2*a)\n",
    "\n",
    "# print the solutions\n",
    "print(\"The solutions are {0} and {1}\".format(sol1, sol2))\n"
   ]
  },
  {
   "cell_type": "markdown",
   "id": "ae5a2990",
   "metadata": {},
   "source": [
    "5. Write a Python program to swap two variables without temp variable?"
   ]
  },
  {
   "cell_type": "code",
   "execution_count": 12,
   "id": "12c45356",
   "metadata": {},
   "outputs": [
    {
     "name": "stdout",
     "output_type": "stream",
     "text": [
      "Enter the first number: 10\n",
      "Enter the second number: 5\n",
      "After swapping: a = 5 and b = 10\n"
     ]
    }
   ],
   "source": [
    "# prompt user for input\n",
    "a = int(input(\"Enter the first number: \"))\n",
    "b = int(input(\"Enter the second number: \"))\n",
    "\n",
    "# perform the swap\n",
    "a = a + b\n",
    "b = a - b\n",
    "a = a - b\n",
    "\n",
    "# print the swapped values\n",
    "print(\"After swapping: a =\", a, \"and b =\", b)"
   ]
  },
  {
   "cell_type": "code",
   "execution_count": null,
   "id": "847a2be2",
   "metadata": {},
   "outputs": [],
   "source": []
  }
 ],
 "metadata": {
  "kernelspec": {
   "display_name": "Python 3 (ipykernel)",
   "language": "python",
   "name": "python3"
  },
  "language_info": {
   "codemirror_mode": {
    "name": "ipython",
    "version": 3
   },
   "file_extension": ".py",
   "mimetype": "text/x-python",
   "name": "python",
   "nbconvert_exporter": "python",
   "pygments_lexer": "ipython3",
   "version": "3.9.12"
  }
 },
 "nbformat": 4,
 "nbformat_minor": 5
}
