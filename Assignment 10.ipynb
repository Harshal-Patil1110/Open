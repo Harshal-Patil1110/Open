{
 "cells": [
  {
   "cell_type": "markdown",
   "id": "fd8572e4",
   "metadata": {},
   "source": [
    "Q1. What is the difference between __getattr__ and __getattribute__?"
   ]
  },
  {
   "cell_type": "markdown",
   "id": "262dc7ca",
   "metadata": {},
   "source": [
    "The __getattr__ and __getattribute__ methods are both special methods in Python classes that are used for attribute access. However, there is an important difference between them:\n",
    "\n",
    "__getattr__:\n",
    "The __getattr__ method is called when an attribute is accessed, and if the attribute is not found through the usual lookup process. It is a fallback method that is invoked only when the attribute is not present in the instance's dictionary or its class hierarchy. This method takes one argument: the name of the attribute being accessed. It allows you to dynamically handle attribute access and return a computed value or raise an AttributeError if the attribute is not found. Here's an example:"
   ]
  },
  {
   "cell_type": "code",
   "execution_count": null,
   "id": "89fe2a68",
   "metadata": {},
   "outputs": [],
   "source": [
    "class MyClass:\n",
    "    def __getattr__(self, name):\n",
    "        if name == 'dynamic_attribute':\n",
    "            return 'Computed value'\n",
    "        else:\n",
    "            raise AttributeError(f\"Attribute '{name}' not found.\")\n",
    "\n",
    "obj = MyClass()\n",
    "print(obj.dynamic_attribute)  # Output: Computed value\n",
    "print(obj.nonexistent_attribute)  # Raises AttributeError\n"
   ]
  },
  {
   "cell_type": "markdown",
   "id": "63a2f7dc",
   "metadata": {},
   "source": [
    "In this example, __getattr__ is implemented to provide a computed value for the dynamic_attribute attribute. If any other attribute is accessed, an AttributeError is raised."
   ]
  },
  {
   "cell_type": "markdown",
   "id": "97ee43f2",
   "metadata": {},
   "source": [
    "__getattribute__:\n",
    "The __getattribute__ method is called for every attribute access on an object, regardless of whether the attribute exists or not. It is invoked before checking the instance's dictionary or its class hierarchy. This method allows you to intercept and customize attribute access behavior. However, it's important to be cautious when implementing __getattribute__ as it can override the default attribute access behavior and potentially lead to infinite recursion if not handled carefully. Here's an example:"
   ]
  },
  {
   "cell_type": "code",
   "execution_count": null,
   "id": "cf6cd063",
   "metadata": {},
   "outputs": [],
   "source": [
    "class MyClass:\n",
    "    def __getattribute__(self, name):\n",
    "        print(f\"Accessing attribute '{name}'\")\n",
    "        return super().__getattribute__(name)\n",
    "\n",
    "obj = MyClass()\n",
    "obj.some_attribute  # Output: Accessing attribute 'some_attribute'\n"
   ]
  },
  {
   "cell_type": "markdown",
   "id": "2c85f0d3",
   "metadata": {},
   "source": [
    "In this example, __getattribute__ is implemented to print a message whenever any attribute is accessed. It then delegates the actual attribute access to the superclass's __getattribute__ method using super()."
   ]
  },
  {
   "cell_type": "markdown",
   "id": "10d2485f",
   "metadata": {},
   "source": [
    "To summarize, the key difference between __getattr__ and __getattribute__ is that __getattr__ is called only when the attribute is not found, whereas __getattribute__ is called for every attribute access, regardless of whether the attribute exists or not. Therefore, you need to be cautious when implementing __getattribute__ to avoid potential issues such as infinite recursion."
   ]
  },
  {
   "cell_type": "markdown",
   "id": "6f508e5a",
   "metadata": {},
   "source": [
    "Q2. What is the difference between properties and descriptors?"
   ]
  },
  {
   "cell_type": "markdown",
   "id": "47c86e09",
   "metadata": {},
   "source": [
    "Ans: \n",
    "\n",
    "Properties and descriptors are both mechanisms in Python that allow you to define controlled access to class attributes. However, there are some key differences between them:\n",
    "\n",
    "Properties:\n",
    "\n",
    "Properties are a high-level concept built on top of descriptors.\n",
    "\n",
    "They provide a simple way to define getter, setter, and deleter methods for class attributes.\n",
    "\n",
    "Properties are defined at the class level and are accessed like regular attributes, but their access triggers the execution of defined methods.\n",
    "\n",
    "Properties can be used to implement computed attributes, where the value is dynamically calculated based on other attributes.\n",
    "\n",
    "Properties offer a convenient and readable syntax for attribute access and modification.\n",
    "\n",
    "\n",
    "Descriptors:\n",
    "\n",
    "Descriptors are a lower-level mechanism for attribute access control.\n",
    "\n",
    "They are implemented as classes that define the __get__, __set__, and __delete__ methods, which control attribute access and modification.\n",
    "\n",
    "Descriptors are typically defined as class-level attributes within another class, known as the owner class.\n",
    "\n",
    "The owner class uses descriptors as decorators or assigns them directly to class attributes.\n",
    "\n",
    "Descriptors allow fine-grained control over attribute access and can implement more complex behaviors compared to properties.\n",
    "\n",
    "They can be used to implement data validation, type checking, lazy loading, and other advanced attribute behaviors."
   ]
  },
  {
   "cell_type": "markdown",
   "id": "bc491832",
   "metadata": {},
   "source": [
    "Q3. What are the key differences in functionality between __getattr__ and __getattribute__, as well as properties and descriptors?"
   ]
  },
  {
   "cell_type": "markdown",
   "id": "e864faaa",
   "metadata": {},
   "source": [
    "Ans: \n",
    "\n",
    "The key differences in functionality between __getattr__ and __getattribute__, as well as properties and descriptors, can be summarized as follows:\n",
    "\n",
    "\n",
    "__getattr__ vs. __getattribute__:\n",
    "\n",
    "\n",
    "__getattr__ is called only when an attribute is not found through the usual lookup process, while __getattribute__ is called for every attribute access.\n",
    "\n",
    "__getattr__ is a fallback method used for handling attribute access when the attribute is not present, whereas __getattribute__ is called for both existing and non-existing attributes.\n",
    "\n",
    "__getattr__ can be used to provide default or computed values for non-existing attributes, while __getattribute__ allows you to intercept and customize all attribute access behavior, including existing attributes.\n",
    "\n",
    "Care should be taken when implementing __getattribute__ to avoid infinite recursion by using super().__getattribute__() or accessing attributes through the instance's __dict__ or object.__getattribute__(self, name).\n",
    "\n",
    "Properties vs. Descriptors:\n",
    "\n",
    "Properties are a high-level concept built on top of descriptors, providing a simple way to define getter, setter, and deleter methods for class attributes.\n",
    "\n",
    "Properties are defined at the class level and accessed like regular attributes, but their access triggers the execution of defined methods.\n",
    "\n",
    "Properties can be used to implement computed attributes, where the value is dynamically calculated based on other attributes.\n",
    "\n",
    "Descriptors are a lower-level mechanism for attribute access control, implemented as classes that define __get__, __set__, and __delete__ methods.\n",
    "\n",
    "Descriptors offer fine-grained control over attribute access and can implement more complex behaviors, such as data validation, type checking, lazy loading, and attribute delegation.\n",
    "\n",
    "Descriptors are typically defined as class-level attributes within the owner class, using decorators or direct assignment.\n",
    "\n",
    "Properties provide a simpler and more readable syntax for attribute access and modification, while descriptors offer more flexibility and advanced attribute behavior customization."
   ]
  },
  {
   "cell_type": "code",
   "execution_count": null,
   "id": "ced10856",
   "metadata": {},
   "outputs": [],
   "source": []
  }
 ],
 "metadata": {
  "kernelspec": {
   "display_name": "Python 3 (ipykernel)",
   "language": "python",
   "name": "python3"
  },
  "language_info": {
   "codemirror_mode": {
    "name": "ipython",
    "version": 3
   },
   "file_extension": ".py",
   "mimetype": "text/x-python",
   "name": "python",
   "nbconvert_exporter": "python",
   "pygments_lexer": "ipython3",
   "version": "3.9.12"
  }
 },
 "nbformat": 4,
 "nbformat_minor": 5
}
