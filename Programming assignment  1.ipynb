{
 "cells": [
  {
   "cell_type": "markdown",
   "id": "fa2115e3",
   "metadata": {},
   "source": [
    "1. Write a Python program to print &quot;Hello Python&quot;?"
   ]
  },
  {
   "cell_type": "code",
   "execution_count": 1,
   "id": "544fc133",
   "metadata": {},
   "outputs": [
    {
     "name": "stdout",
     "output_type": "stream",
     "text": [
      "Hello\n"
     ]
    }
   ],
   "source": [
    "print(\"Hello\")"
   ]
  },
  {
   "cell_type": "markdown",
   "id": "f3220b5c",
   "metadata": {},
   "source": [
    "2. Write a Python program to do arithmetical operations addition and division.?"
   ]
  },
  {
   "cell_type": "code",
   "execution_count": 2,
   "id": "009b884c",
   "metadata": {},
   "outputs": [
    {
     "name": "stdout",
     "output_type": "stream",
     "text": [
      "The sum of 10 and 5 is 15\n",
      "The result of dividing 10 by 5 is 2.0\n"
     ]
    }
   ],
   "source": [
    "a = 10\n",
    "b = 5\n",
    "\n",
    "# addition\n",
    "c = a + b\n",
    "print(\"The sum of\", a, \"and\", b, \"is\", c)\n",
    "\n",
    "# division\n",
    "d = a / b\n",
    "print(\"The result of dividing\", a, \"by\", b, \"is\", d)\n"
   ]
  },
  {
   "cell_type": "markdown",
   "id": "63273e12",
   "metadata": {},
   "source": [
    "3. Write a Python program to find the area of a triangle?"
   ]
  },
  {
   "cell_type": "code",
   "execution_count": 3,
   "id": "7edf48a7",
   "metadata": {},
   "outputs": [
    {
     "name": "stdout",
     "output_type": "stream",
     "text": [
      "The area of the triangle is 20.0\n"
     ]
    }
   ],
   "source": [
    "base = 5\n",
    "height = 8\n",
    "\n",
    "# calculate area of triangle\n",
    "area = 0.5 * base * height\n",
    "\n",
    "# print result\n",
    "print(\"The area of the triangle is\", area)"
   ]
  },
  {
   "cell_type": "markdown",
   "id": "5a12f0fb",
   "metadata": {},
   "source": [
    "4. Write a Python program to swap two variables?"
   ]
  },
  {
   "cell_type": "code",
   "execution_count": 4,
   "id": "f709270f",
   "metadata": {},
   "outputs": [
    {
     "name": "stdout",
     "output_type": "stream",
     "text": [
      "a is now 10\n",
      "b is now 5\n"
     ]
    }
   ],
   "source": [
    "a = 5\n",
    "b = 10\n",
    "\n",
    "# swap values\n",
    "temp = a\n",
    "a = b\n",
    "b = temp\n",
    "\n",
    "# print swapped values\n",
    "print(\"a is now\", a)\n",
    "print(\"b is now\", b)\n"
   ]
  },
  {
   "cell_type": "markdown",
   "id": "8c01f2bb",
   "metadata": {},
   "source": [
    "5. Write a Python program to generate a random number?"
   ]
  },
  {
   "cell_type": "code",
   "execution_count": 5,
   "id": "e31ec6e4",
   "metadata": {},
   "outputs": [
    {
     "name": "stdout",
     "output_type": "stream",
     "text": [
      "The random number is: 6\n"
     ]
    }
   ],
   "source": [
    "import random\n",
    "\n",
    "# generate random number between 1 and 10\n",
    "random_num = random.randint(1, 10)\n",
    "\n",
    "# print result\n",
    "print(\"The random number is:\", random_num)\n"
   ]
  },
  {
   "cell_type": "code",
   "execution_count": null,
   "id": "7839d118",
   "metadata": {},
   "outputs": [],
   "source": []
  }
 ],
 "metadata": {
  "kernelspec": {
   "display_name": "Python 3 (ipykernel)",
   "language": "python",
   "name": "python3"
  },
  "language_info": {
   "codemirror_mode": {
    "name": "ipython",
    "version": 3
   },
   "file_extension": ".py",
   "mimetype": "text/x-python",
   "name": "python",
   "nbconvert_exporter": "python",
   "pygments_lexer": "ipython3",
   "version": "3.9.12"
  }
 },
 "nbformat": 4,
 "nbformat_minor": 5
}
