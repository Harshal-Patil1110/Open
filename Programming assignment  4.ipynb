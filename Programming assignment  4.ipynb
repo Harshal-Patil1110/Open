{
 "cells": [
  {
   "cell_type": "markdown",
   "id": "74b96c93",
   "metadata": {},
   "source": [
    "1. Write a Python Program to Find the Factorial of a Number?"
   ]
  },
  {
   "cell_type": "code",
   "execution_count": 18,
   "id": "b28315d3",
   "metadata": {},
   "outputs": [
    {
     "name": "stdout",
     "output_type": "stream",
     "text": [
      "Enter a number: 4\n",
      "Factorial of 4 is 24\n"
     ]
    }
   ],
   "source": [
    "def factorial(n):\n",
    "    if n == 0:\n",
    "        return 1\n",
    "    else:\n",
    "        return n * factorial(n-1)\n",
    "\n",
    "# take input from the user\n",
    "num = int(input(\"Enter a number: \"))\n",
    "\n",
    "# check if the number is negative\n",
    "if num < 0:\n",
    "    print(\"Factorial of negative numbers does not exist.\")\n",
    "elif num == 0:\n",
    "    print(\"Factorial of 0 is 1.\")\n",
    "else:\n",
    "    print(\"Factorial of\", num, \"is\", factorial(num))\n"
   ]
  },
  {
   "cell_type": "markdown",
   "id": "87eac543",
   "metadata": {},
   "source": [
    "2. Write a Python Program to Display the multiplication Table?"
   ]
  },
  {
   "cell_type": "code",
   "execution_count": 19,
   "id": "324dbc95",
   "metadata": {},
   "outputs": [
    {
     "name": "stdout",
     "output_type": "stream",
     "text": [
      "Enter a number: 6\n",
      "6 x 1 = 6\n",
      "6 x 2 = 12\n",
      "6 x 3 = 18\n",
      "6 x 4 = 24\n",
      "6 x 5 = 30\n",
      "6 x 6 = 36\n",
      "6 x 7 = 42\n",
      "6 x 8 = 48\n",
      "6 x 9 = 54\n",
      "6 x 10 = 60\n"
     ]
    }
   ],
   "source": [
    "num = int(input(\"Enter a number: \"))\n",
    "\n",
    "for i in range(1, 11):\n",
    "   print(num, \"x\", i, \"=\", num*i)\n"
   ]
  },
  {
   "cell_type": "markdown",
   "id": "3d99dfb0",
   "metadata": {},
   "source": [
    "3. Write a Python Program to Print the Fibonacci sequence?"
   ]
  },
  {
   "cell_type": "code",
   "execution_count": 20,
   "id": "0654f310",
   "metadata": {},
   "outputs": [
    {
     "name": "stdout",
     "output_type": "stream",
     "text": [
      "Enter the number of terms: 3\n",
      "Fibonacci sequence:\n",
      "0\n",
      "1\n",
      "1\n"
     ]
    }
   ],
   "source": [
    "n = int(input(\"Enter the number of terms: \"))\n",
    "a, b = 0, 1\n",
    "count = 0\n",
    "\n",
    "if n <= 0:\n",
    "   print(\"Please enter a positive integer\")\n",
    "elif n == 1:\n",
    "   print(\"Fibonacci sequence upto\",n,\":\")\n",
    "   print(a)\n",
    "else:\n",
    "   print(\"Fibonacci sequence:\")\n",
    "   while count < n:\n",
    "       print(a)\n",
    "       c = a + b\n",
    "       a = b\n",
    "       b = c\n",
    "       count += 1\n"
   ]
  },
  {
   "cell_type": "markdown",
   "id": "a415b4a9",
   "metadata": {},
   "source": [
    "4. Write a Python Program to Check Armstrong Number?"
   ]
  },
  {
   "cell_type": "code",
   "execution_count": 21,
   "id": "66a883e4",
   "metadata": {},
   "outputs": [
    {
     "name": "stdout",
     "output_type": "stream",
     "text": [
      "Enter a number: 5\n",
      "5 is not an Armstrong number\n"
     ]
    }
   ],
   "source": [
    "num = int(input(\"Enter a number: \"))\n",
    "sum = 0\n",
    "temp = num\n",
    "while temp > 0:\n",
    "   digit = temp % 10\n",
    "   sum += digit ** 3\n",
    "   temp //= 10\n",
    "\n",
    "if num == sum:\n",
    "   print(num,\"is an Armstrong number\")\n",
    "else:\n",
    "   print(num,\"is not an Armstrong number\")\n"
   ]
  },
  {
   "cell_type": "markdown",
   "id": "02309d1f",
   "metadata": {},
   "source": [
    "5. Write a Python Program to Find Armstrong Number in an Interval?"
   ]
  },
  {
   "cell_type": "code",
   "execution_count": 23,
   "id": "4daa0a8c",
   "metadata": {},
   "outputs": [
    {
     "name": "stdout",
     "output_type": "stream",
     "text": [
      "Enter the lower range: 10\n",
      "Enter the upper range: 20\n",
      "Armstrong numbers between 10 and 20 are:\n"
     ]
    }
   ],
   "source": [
    "lower = int(input(\"Enter the lower range: \"))\n",
    "upper = int(input(\"Enter the upper range: \"))\n",
    "\n",
    "print(\"Armstrong numbers between\", lower, \"and\", upper, \"are:\")\n",
    "\n",
    "for num in range(lower, upper + 1):\n",
    "    order = len(str(num))\n",
    "    sum = 0\n",
    "    temp = num\n",
    "    while temp > 0:\n",
    "        digit = temp % 10\n",
    "        sum += digit ** order\n",
    "        temp //= 10\n",
    "\n",
    "    if num == sum:\n",
    "        print(num)\n"
   ]
  },
  {
   "cell_type": "markdown",
   "id": "3de9b1e5",
   "metadata": {},
   "source": [
    "6. Write a Python Program to Find the Sum of Natural Numbers?"
   ]
  },
  {
   "cell_type": "code",
   "execution_count": 24,
   "id": "00f83824",
   "metadata": {},
   "outputs": [
    {
     "name": "stdout",
     "output_type": "stream",
     "text": [
      "Enter a positive integer: 4\n",
      "The sum of first 4 natural numbers is: 10\n"
     ]
    }
   ],
   "source": [
    "n = int(input(\"Enter a positive integer: \"))\n",
    "\n",
    "# calculate sum using formula n(n+1)/2\n",
    "sum_n = n * (n+1) // 2\n",
    "\n",
    "print(\"The sum of first\", n, \"natural numbers is:\", sum_n)\n"
   ]
  },
  {
   "cell_type": "code",
   "execution_count": null,
   "id": "6e00fd0c",
   "metadata": {},
   "outputs": [],
   "source": []
  }
 ],
 "metadata": {
  "kernelspec": {
   "display_name": "Python 3 (ipykernel)",
   "language": "python",
   "name": "python3"
  },
  "language_info": {
   "codemirror_mode": {
    "name": "ipython",
    "version": 3
   },
   "file_extension": ".py",
   "mimetype": "text/x-python",
   "name": "python",
   "nbconvert_exporter": "python",
   "pygments_lexer": "ipython3",
   "version": "3.9.12"
  }
 },
 "nbformat": 4,
 "nbformat_minor": 5
}
