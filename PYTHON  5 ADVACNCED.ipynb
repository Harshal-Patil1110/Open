{
 "cells": [
  {
   "cell_type": "markdown",
   "id": "523e5121",
   "metadata": {},
   "source": [
    "Q1. What is the meaning of multiple inheritance?"
   ]
  },
  {
   "cell_type": "markdown",
   "id": "ad5f79f4",
   "metadata": {},
   "source": [
    "ANS:\n",
    "\n",
    "\n",
    "Multiple inheritance is a feature of object-oriented programming where a class can inherit from more than one parent class. This means that the child class inherits attributes and methods from all of its parent classes.\n",
    "In multiple inheritance, the child class is created by inheriting from multiple parent classes separated by commas. When a method is called on an instance of the child class, Python first looks for the method in the child class, and if it's not found there, it looks in each of the parent classes in the order they were specified in the child class definition."
   ]
  },
  {
   "cell_type": "markdown",
   "id": "2082e6d6",
   "metadata": {},
   "source": [
    "Q2. What is the concept of delegation?"
   ]
  },
  {
   "cell_type": "markdown",
   "id": "f9c57f45",
   "metadata": {},
   "source": [
    "ANS:\n",
    "Delegation is a design pattern in object-oriented programming that allows one object to delegate some of its responsibilities to another object. In other words, instead of performing a task itself, an object delegates the task to another object that is better suited for the task.\n",
    "\n",
    "Delegation is often used to implement composition, where an object is composed of one or more other objects. The main advantage of delegation is that it allows objects to work together in a flexible and modular way, without being tightly coupled or dependent on each other."
   ]
  },
  {
   "cell_type": "markdown",
   "id": "b847b427",
   "metadata": {},
   "source": [
    "Q3. What is the concept of composition?"
   ]
  },
  {
   "cell_type": "markdown",
   "id": "a83ec153",
   "metadata": {},
   "source": [
    "ANS:\n",
    "\n",
    "Composition is a fundamental concept in object-oriented programming that refers to the idea of combining simpler or more specialized objects into more complex or more general objects. In other words, composition is the process of building complex objects from simpler building blocks.Composition is often used as an alternative to inheritance, because it allows objects to work together in a more flexible and modular way, without being tightly coupled or dependent on each other. In a composition relationship, the composed object holds references to its component objects, and delegates some or all of its behavior to them."
   ]
  },
  {
   "cell_type": "markdown",
   "id": "ee110e25",
   "metadata": {},
   "source": [
    "Q4. What are bound methods and how do we use them?"
   ]
  },
  {
   "cell_type": "markdown",
   "id": "46eb3eff",
   "metadata": {},
   "source": [
    "ANS:\n",
    "\n",
    "Bound methods are a concept in Python that refers to methods that are associated with an instance of a class. In other words, a bound method is a method that has been bound to an object, and can be called on that object to perform some action or behavior.\n",
    "When a method is called on an object, it automatically receives a reference to the object as its first argument, conventionally called self. This reference allows the method to access and manipulate the object's internal state, as well as call other methods on the object.\n",
    "Here's an example of how bound methods work in Python:"
   ]
  },
  {
   "cell_type": "code",
   "execution_count": 5,
   "id": "d2fb8f3c",
   "metadata": {},
   "outputs": [
    {
     "name": "stdout",
     "output_type": "stream",
     "text": [
      "Hello, World!\n"
     ]
    }
   ],
   "source": [
    "class MyClass:\n",
    "    def my_method(self):\n",
    "        print(\"Hello, World!\")\n",
    "\n",
    "obj = MyClass()\n",
    "obj.my_method()  # Output: \"Hello, World!\"\n"
   ]
  },
  {
   "cell_type": "markdown",
   "id": "65ea8314",
   "metadata": {},
   "source": [
    "Q5. What is the purpose of pseudoprivate attributes?"
   ]
  },
  {
   "cell_type": "markdown",
   "id": "4e0f551b",
   "metadata": {},
   "source": [
    "ANS:\n",
    "Pseudoprivate attributes are a concept in Python that allows developers to create attributes that are not easily accessible from outside the class in which they are defined. The purpose of pseudoprivate attributes is to provide a way to encapsulate the internal state of a class, and prevent external code from directly manipulating or accessing that state.In Python, pseudoprivate attributes are defined by using a double underscore prefix before the attribute name."
   ]
  },
  {
   "cell_type": "code",
   "execution_count": null,
   "id": "c578b7b6",
   "metadata": {},
   "outputs": [],
   "source": []
  },
  {
   "cell_type": "code",
   "execution_count": null,
   "id": "1569c0d4",
   "metadata": {},
   "outputs": [],
   "source": []
  }
 ],
 "metadata": {
  "kernelspec": {
   "display_name": "Python 3 (ipykernel)",
   "language": "python",
   "name": "python3"
  },
  "language_info": {
   "codemirror_mode": {
    "name": "ipython",
    "version": 3
   },
   "file_extension": ".py",
   "mimetype": "text/x-python",
   "name": "python",
   "nbconvert_exporter": "python",
   "pygments_lexer": "ipython3",
   "version": "3.9.12"
  }
 },
 "nbformat": 4,
 "nbformat_minor": 5
}
