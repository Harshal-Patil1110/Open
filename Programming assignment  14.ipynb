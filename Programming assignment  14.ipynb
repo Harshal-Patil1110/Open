{
 "cells": [
  {
   "cell_type": "markdown",
   "id": "f286217d",
   "metadata": {},
   "source": [
    "Question 1:\n",
    "Define a class with a generator which can iterate the numbers, which are divisible by\n",
    "7, between a given range 0 and n."
   ]
  },
  {
   "cell_type": "code",
   "execution_count": 1,
   "id": "edb8d5dd",
   "metadata": {},
   "outputs": [
    {
     "name": "stdout",
     "output_type": "stream",
     "text": [
      "0\n",
      "7\n",
      "14\n",
      "21\n",
      "28\n",
      "35\n",
      "42\n",
      "49\n"
     ]
    }
   ],
   "source": [
    "class DivisibleBySeven:\n",
    "    def __init__(self, n):\n",
    "        self.n = n\n",
    "    \n",
    "    def generator(self):\n",
    "        for i in range(self.n + 1):\n",
    "            if i % 7 == 0:\n",
    "                yield i\n",
    "# create an instance of the class with n = 50\n",
    "divisible_by_seven = DivisibleBySeven(50)\n",
    "\n",
    "# iterate over the numbers divisible by 7 using the generator\n",
    "for i in divisible_by_seven.generator():\n",
    "    print(i)\n"
   ]
  },
  {
   "cell_type": "markdown",
   "id": "e081a96f",
   "metadata": {},
   "source": [
    "Question 2:\n",
    "Write a program to compute the frequency of the words from the input. The output\n",
    "should output after sorting the key alphanumerically.\n",
    "Suppose the following input is supplied to the program:\n",
    "New to Python or choosing between Python 2 and Python 3? Read Python 2 or\n",
    "Python 3.\n",
    "Then, the output should be:\n",
    "2:2\n",
    "3.:1\n",
    "3?:1\n",
    "New:1\n",
    "Python:5\n",
    "Read:1\n",
    "and:1\n",
    "between:1\n",
    "choosing:1\n",
    "or:2\n",
    "to:1"
   ]
  },
  {
   "cell_type": "code",
   "execution_count": 2,
   "id": "0aca18cd",
   "metadata": {},
   "outputs": [
    {
     "name": "stdout",
     "output_type": "stream",
     "text": [
      "Enter a sentence: \"New to Python or choosing between Python 2 and Python 3? Read Python 2 or Python 3\n",
      "\"New:1\n",
      "2:2\n",
      "3:1\n",
      "3?:1\n",
      "Python:5\n",
      "Read:1\n",
      "and:1\n",
      "between:1\n",
      "choosing:1\n",
      "or:2\n",
      "to:1\n"
     ]
    }
   ],
   "source": [
    "sentence = input(\"Enter a sentence: \")\n",
    "word_list = sentence.split()\n",
    "word_count = {}\n",
    "\n",
    "for word in word_list:\n",
    "    if word in word_count:\n",
    "        word_count[word] += 1\n",
    "    else:\n",
    "        word_count[word] = 1\n",
    "\n",
    "for word in sorted(word_count):\n",
    "    print(f\"{word}:{word_count[word]}\")\n"
   ]
  },
  {
   "cell_type": "markdown",
   "id": "e30efe7f",
   "metadata": {},
   "source": [
    "Question 3:\n",
    "\n",
    "Define a class Person and its two child classes: Male and Female. All classes have a\n",
    "method &quot;getGender&quot; which can print &quot;Male&quot; for Male class and &quot;Female&quot; for Female\n",
    "class."
   ]
  },
  {
   "cell_type": "code",
   "execution_count": 3,
   "id": "52552c5f",
   "metadata": {},
   "outputs": [
    {
     "name": "stdout",
     "output_type": "stream",
     "text": [
      "Male\n",
      "Female\n"
     ]
    }
   ],
   "source": [
    "class Person:\n",
    "    def __init__(self, name):\n",
    "        self.name = name\n",
    "    \n",
    "    def getGender(self):\n",
    "        pass\n",
    "\n",
    "class Male(Person):\n",
    "    def getGender(self):\n",
    "        print(\"Male\")\n",
    "\n",
    "class Female(Person):\n",
    "    def getGender(self):\n",
    "        print(\"Female\")\n",
    "\n",
    "john = Male(\"John\")\n",
    "jane = Female(\"Jane\")\n",
    "\n",
    "john.getGender() # Output: \"Male\"\n",
    "jane.getGender() # Output: \"Female\"\n"
   ]
  },
  {
   "cell_type": "markdown",
   "id": "2c88f89e",
   "metadata": {},
   "source": [
    "Question 4:\n",
    "Please write a program to generate all sentences where subject is in [\"I\",\"You\"] and\n",
    "verb is in [\"Play\" ,\"Love\"] and the object is in [\"Hockey\",\"Football\"]."
   ]
  },
  {
   "cell_type": "code",
   "execution_count": 4,
   "id": "c74ef3c2",
   "metadata": {},
   "outputs": [
    {
     "name": "stdout",
     "output_type": "stream",
     "text": [
      "I Play Hockey.\n",
      "I Play Football.\n",
      "I Love Hockey.\n",
      "I Love Football.\n",
      "You Play Hockey.\n",
      "You Play Football.\n",
      "You Love Hockey.\n",
      "You Love Football.\n"
     ]
    }
   ],
   "source": [
    "subjects = [\"I\", \"You\"]\n",
    "verbs = [\"Play\", \"Love\"]\n",
    "objects = [\"Hockey\", \"Football\"]\n",
    "\n",
    "for subject in subjects:\n",
    "    for verb in verbs:\n",
    "        for obj in objects:\n",
    "            sentence = f\"{subject} {verb} {obj}.\"\n",
    "            print(sentence)\n"
   ]
  },
  {
   "cell_type": "markdown",
   "id": "07673753",
   "metadata": {},
   "source": [
    "Question 5:\n",
    "Please write a program to compress and decompress the string \"hello world!hello\n",
    "world!hello world!hello world!\"."
   ]
  },
  {
   "cell_type": "code",
   "execution_count": 5,
   "id": "9d48541c",
   "metadata": {},
   "outputs": [
    {
     "name": "stdout",
     "output_type": "stream",
     "text": [
      "Original string: hello world!hello world!hello world!hello world!\n",
      "Compressed data: b'x\\x9c\\xcbH\\xcd\\xc9\\xc9W(\\xcf/\\xcaIQ\\xcc \\x82\\r\\x00\\xbd[\\x11\\xf5'\n",
      "Decompressed string: hello world!hello world!hello world!hello world!\n"
     ]
    }
   ],
   "source": [
    "import zlib\n",
    "\n",
    "# Original string\n",
    "original_string = \"hello world!hello world!hello world!hello world!\"\n",
    "print(\"Original string:\", original_string)\n",
    "\n",
    "# Compress the string\n",
    "compressed_data = zlib.compress(original_string.encode())\n",
    "print(\"Compressed data:\", compressed_data)\n",
    "\n",
    "# Decompress the data\n",
    "decompressed_data = zlib.decompress(compressed_data)\n",
    "decompressed_string = decompressed_data.decode()\n",
    "print(\"Decompressed string:\", decompressed_string)\n"
   ]
  },
  {
   "cell_type": "markdown",
   "id": "f07d619c",
   "metadata": {},
   "source": [
    "Question 6:\n",
    "Please write a binary search function which searches an item in a sorted list. The\n",
    "function should return the index of element to be searched in the list."
   ]
  },
  {
   "cell_type": "code",
   "execution_count": 6,
   "id": "bbee3f49",
   "metadata": {},
   "outputs": [
    {
     "name": "stdout",
     "output_type": "stream",
     "text": [
      "Element found at index 2\n"
     ]
    }
   ],
   "source": [
    "def binary_search(arr, x):\n",
    "    \"\"\"\n",
    "    Performs binary search on the given sorted array and returns the index of the target element.\n",
    "    If the element is not found, returns -1.\n",
    "    \"\"\"\n",
    "    left = 0\n",
    "    right = len(arr) - 1\n",
    "\n",
    "    while left <= right:\n",
    "        mid = (left + right) // 2\n",
    "\n",
    "        if arr[mid] == x:\n",
    "            return mid\n",
    "\n",
    "        elif arr[mid] < x:\n",
    "            left = mid + 1\n",
    "\n",
    "        else:\n",
    "            right = mid - 1\n",
    "\n",
    "    return -1\n",
    "\n",
    "arr = [1, 3, 5, 7, 9, 11]\n",
    "x = 5\n",
    "\n",
    "index = binary_search(arr, x)\n",
    "\n",
    "if index == -1:\n",
    "    print(\"Element not found in array\")\n",
    "else:\n",
    "    print(f\"Element found at index {index}\")\n"
   ]
  },
  {
   "cell_type": "code",
   "execution_count": null,
   "id": "c3aefa8d",
   "metadata": {},
   "outputs": [],
   "source": []
  }
 ],
 "metadata": {
  "kernelspec": {
   "display_name": "Python 3 (ipykernel)",
   "language": "python",
   "name": "python3"
  },
  "language_info": {
   "codemirror_mode": {
    "name": "ipython",
    "version": 3
   },
   "file_extension": ".py",
   "mimetype": "text/x-python",
   "name": "python",
   "nbconvert_exporter": "python",
   "pygments_lexer": "ipython3",
   "version": "3.9.12"
  }
 },
 "nbformat": 4,
 "nbformat_minor": 5
}
